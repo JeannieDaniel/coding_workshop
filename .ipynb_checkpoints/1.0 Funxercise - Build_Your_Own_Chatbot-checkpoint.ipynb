{
 "cells": [
  {
   "cell_type": "markdown",
   "metadata": {
    "collapsed": true
   },
   "source": [
    "## Guide to Building Your First Chatbot and Other Cool Applications\n",
    "#### Proud Author: Jeanne Elizabeth Daniel"
   ]
  },
  {
   "cell_type": "markdown",
   "metadata": {},
   "source": [
    "### Q: What is a Chatbot?\n",
    "\n",
    "### A:\n",
    "A chatbot (also known as a talkbot, chatterbot, Bot, IM bot, interactive agent, or Artificial Conversational Entity) is a computer program or an artificial intelligence which conducts a conversation via auditory or textual methods.\n",
    "\n",
    "Such programs are often designed to convincingly simulate how a human would behave as a conversational partner, thereby passing the Turing test. \n",
    "\n",
    "Chatbots are typically used in dialog systems for various practical purposes including customer service or information acquisition. \n",
    "\n",
    "Some chatterbots use sophisticated natural language processing systems, but many simpler systems scan for keywords within the input, then pull a reply with the most matching keywords, or the most similar wording pattern, from a database."
   ]
  },
  {
   "cell_type": "markdown",
   "metadata": {
    "collapsed": true
   },
   "source": [
    "### Chatbots are a hot topic.\n",
    "\n",
    "\n",
    "Microsoft, Facebook, Apple, Google, WeChat, and Slack are making big bets on them. There is huge wave of startups trying to disrupt the consumer interaction service with apps like Operator, x.ai, bot platforms like Chatfuel, and bot libraries like Howdy’s Botkit.\n",
    "\n",
    "\n",
    "Many companies are hoping to develop bots to have natural conversations indistinguishable from human ones, and many claim to be using NLP and Deep Learning techniques to make this possible."
   ]
  },
  {
   "cell_type": "markdown",
   "metadata": {},
   "source": [
    "### Natural Language Processing\n",
    "Natural Language Processing (NLP for short) is sort of a subfield/application of computational linguistics -- the intersection of linguistics and computer science.\n",
    "\n",
    "It a wide, and still relatively unsolved field. It closely relates to successfully building Artificial Intelligence agents, as any AI agent will have to be able to process and interpret/understand its instructions, even ones it had not been preprogrammed to understand. "
   ]
  },
  {
   "cell_type": "code",
   "execution_count": 29,
   "metadata": {
    "collapsed": false
   },
   "outputs": [],
   "source": [
    "import numpy as np\n",
    "import pandas as pd\n",
    "import requests  \n",
    "import datetime\n",
    "import time\n",
    "import os\n",
    "import time"
   ]
  },
  {
   "cell_type": "markdown",
   "metadata": {},
   "source": [
    "We will be using some of the tools we have learned about so far, and build our own chatbot that can respond to our queries. It will be a very simple bot, where every query matches to a single response. \n",
    "\n",
    "First we define our class, BotHandler. Don't worry too much about trying to understand classes: it is merely a collection of functions and attributes. "
   ]
  },
  {
   "cell_type": "code",
   "execution_count": 30,
   "metadata": {
    "collapsed": true
   },
   "outputs": [],
   "source": [
    "class BotHandler:\n",
    "    \n",
    "\n",
    "    \"\"\"\n",
    "    This is how we initiate a class\n",
    "    \"\"\"\n",
    "    def __init__(self, name):\n",
    "        self.name  = name\n",
    "    \n",
    "    \"\"\"\n",
    "    This is the function where we will code the responses to our query\n",
    "    \"\"\"\n",
    "    def query_bot(self, q):\n",
    "        if q == 'What is your name, bot?':\n",
    "            print(\"My name is\", self.name)\n",
    "            return\n",
    "        \n",
    "        if q == '<Insert query here>':\n",
    "            print(\"<Insert custom response here>\")\n",
    "            return\n",
    "        \n",
    "        # here you can add more queries in the same format\n",
    "        # if you want, you can even add your case-sensitive function from Tut 0\n",
    "        "
   ]
  },
  {
   "cell_type": "code",
   "execution_count": 31,
   "metadata": {
    "collapsed": true
   },
   "outputs": [],
   "source": [
    "bot = BotHandler('monty')"
   ]
  },
  {
   "cell_type": "code",
   "execution_count": 32,
   "metadata": {
    "collapsed": false
   },
   "outputs": [
    {
     "name": "stdout",
     "output_type": "stream",
     "text": [
      "My name is monty\n"
     ]
    }
   ],
   "source": [
    "bot.query_bot('What is your name, bot?')"
   ]
  },
  {
   "cell_type": "code",
   "execution_count": 33,
   "metadata": {
    "collapsed": false
   },
   "outputs": [
    {
     "name": "stdout",
     "output_type": "stream",
     "text": [
      "<Insert custom response here>\n"
     ]
    }
   ],
   "source": [
    "bot.query_bot('<Insert query here>')"
   ]
  },
  {
   "cell_type": "markdown",
   "metadata": {},
   "source": [
    "## Webscraping\n",
    "Ever wondered if you could automatically compare prices for flights, be notified of changes in stock prices, get custom weather updates, or get notified when a website gets changed? \n",
    "\n",
    "All of this can be done using webscraping. Webscraping means to automatically scrape information from publically-available website. A website is characterised by its URL, or its virtual address. \n",
    "\n",
    "There are two types of websites, static and dynamic. Static websites are really easy to scrape, the content is embedded in the HTML. \n",
    "\n",
    "Dynamic websites get populated only once the page loads (i.e. user scrolls down or something), so it is a lot harder to scrape the website using static tools like BeautifulSoup. Then we start using Spiders, which crawl across the site, mimicking the way an user would scroll through the site. \n",
    "\n",
    "If you are interested in websites in general, check out https://www.w3schools.com/html/. Here you can learn all about the different attributes of HTML, and how they interact. \n",
    "\n",
    "Usually the most interesting stuff is found within divs. We can treat the HTML like one massive string and split the HTML using keywords and pattern matching."
   ]
  },
  {
   "cell_type": "markdown",
   "metadata": {},
   "source": [
    "#### Bot gets the news now.\n",
    "Now we can build a function into our bot that collects the news headlines for us. This is a really useful feature as we do not need to go online, and it saves us a lot of time. \n",
    "\n",
    "Collecting news from Moneyweb means we scrape the whole HTML page (the language that websites are made of), and strip away the unnecessary stuff to leave us with only the headlines. We do this using BeautifulSoup, a package specifically for parsing HTML. \n",
    "\n",
    "Note: this is only to show you what the endless possibilities that programming has to offer. If you are interested in learning a bit more about webscraping, here is a cool tutorial: https://hackernoon.com/web-scraping-tutorial-with-python-tips-and-tricks-db070e70e071"
   ]
  },
  {
   "cell_type": "code",
   "execution_count": 34,
   "metadata": {
    "collapsed": true
   },
   "outputs": [],
   "source": [
    "import json\n",
    "import re\n",
    "from dateutil.parser import parse\n",
    "import pprint\n",
    "import requests\n",
    "from bs4 import BeautifulSoup\n",
    "from dateutil.parser import parse\n",
    "from datetime import tzinfo, timedelta, datetime, timezone\n",
    "import pytz"
   ]
  },
  {
   "cell_type": "code",
   "execution_count": 38,
   "metadata": {
    "collapsed": false
   },
   "outputs": [],
   "source": [
    "class BotHandler:\n",
    "\n",
    "    \"\"\"\n",
    "    This is how we initiate a class\n",
    "    \"\"\"\n",
    "    def __init__(self, name):\n",
    "        self.name  = name\n",
    "        self.pairs = {'What is your name, bot?': \"My name is \" +  self.name}\n",
    "        \n",
    "        \n",
    "    \"\"\"\n",
    "    This is the function where we will code the responses to our query\n",
    "    \"\"\"\n",
    "    def query_bot(self, q):\n",
    "        if q == 'What is your name, bot?':\n",
    "            print(\"My name is\", self.name)\n",
    "            return\n",
    "        \n",
    "        if q == 'Get news':\n",
    "            self.get_news()\n",
    "            return\n",
    "        # here you can add more queries using elif\n",
    "        \n",
    "    def get_news(self):\n",
    "        sa_timezone = pytz.timezone(\"Africa/Johannesburg\")\n",
    "        url = \"https://www.moneyweb.co.za/category/news/south-africa/page/\"\n",
    "\n",
    "        page = requests.get(url + str(0) + \"/\")\n",
    "        soup = BeautifulSoup(page.content, 'html.parser')\n",
    "        thumbnails = soup.find_all('div', class_='thumbnail')\n",
    "\n",
    "        for thumb in thumbnails:\n",
    "            hyplink = str(thumb).split('href=\"')[1].split('\" ')[0]\n",
    "            subpage = requests.get(hyplink)\n",
    "            soup = BeautifulSoup(subpage.content, 'html.parser')\n",
    "            article_title = soup.find_all('title')\n",
    "            article_meta = soup.find('div', class_ = \"article-meta grey-text\")\n",
    "            if len(str(article_title).split('[<title>')) > 1:\n",
    "                text = str(article_title).split('[<title>')[1].split('</title>]')[0]\n",
    "                text = text.replace(\"&amp;\", \"and\")\n",
    "                if len(str(article_meta).split('span content=\"')) > 1:\n",
    "                    date = parse(str(article_meta).split('span content=\"')[1].split('\"')[0])\n",
    "                    sa_datetime = date.astimezone(sa_timezone) \n",
    "                    print(sa_datetime, text)\n",
    "        "
   ]
  },
  {
   "cell_type": "code",
   "execution_count": 39,
   "metadata": {
    "collapsed": false
   },
   "outputs": [],
   "source": [
    "bot = BotHandler('monty')"
   ]
  },
  {
   "cell_type": "code",
   "execution_count": 43,
   "metadata": {
    "collapsed": false
   },
   "outputs": [
    {
     "name": "stdout",
     "output_type": "stream",
     "text": [
      "2018-10-12 15:14:18+02:00 Moody’s rating: Too soon to cash in on the ‘Tito premium’? - Moneyweb\n",
      "2018-10-12 13:31:29+02:00 Five things making headlines in South Africa today - Moneyweb\n",
      "2018-10-12 12:30:03+02:00 Mboweni is likely to get Moody’s reprieve - Moneyweb\n",
      "2018-10-12 12:25:34+02:00 Pik Botha, global face of South Africa’s apartheid state, dies at 86 - Moneyweb\n",
      "2018-10-12 02:30:55+02:00 South Africa ranks worse than Russia in economic freedom - Moneyweb\n",
      "2018-10-12 02:28:34+02:00 Milne totally misled us – Porritt - Moneyweb\n",
      "2018-10-12 02:03:35+02:00 The two big questions ahead of the medium-term budget - Moneyweb\n",
      "2018-10-11 23:13:37+02:00 SA to start 4G spectrum auction by April 2019 - Moneyweb\n",
      "2018-10-11 18:42:15+02:00 EFF denies receiving corrupt funds - Moneyweb\n",
      "2018-10-11 15:00:22+02:00 Joburg CBD set for R2bn urban renewal injection - Moneyweb\n",
      "2018-10-11 14:53:32+02:00 Saudis interested in buying Denel – minister - Moneyweb\n",
      "2018-10-11 13:19:37+02:00 Ramaphosa treads ‘softly-softly’ in power play - Moneyweb\n",
      "2018-10-11 13:10:48+02:00 Five things making headlines in South Africa today - Moneyweb\n",
      "2018-10-11 09:32:13+02:00 SA faces lights out, unless Ramaphosa can fix Eskom - Moneyweb\n"
     ]
    }
   ],
   "source": [
    "bot.query_bot('Get news')"
   ]
  },
  {
   "cell_type": "markdown",
   "metadata": {},
   "source": [
    "### Automatically collect Bitcoin prices\n",
    "We can even query crypto exchanges for minute-by-minute updates on the price of a cryptocurrency. Cryptocompare (https://medium.com/@galea/cryptocompare-api-quick-start-guide-ca4430a484d4) is an API that aggregates across multiple exchanges and is free and easy to use."
   ]
  },
  {
   "cell_type": "code",
   "execution_count": 54,
   "metadata": {
    "collapsed": true
   },
   "outputs": [],
   "source": [
    "class BotHandler:\n",
    "\n",
    "    \"\"\"\n",
    "    This is how we initiate a class\n",
    "    \"\"\"\n",
    "    def __init__(self, name):\n",
    "        self.name  = name\n",
    "        self.pairs = {'What is your name, bot?': \"My name is \" +  self.name}\n",
    "        \n",
    "        \n",
    "    \"\"\"\n",
    "    This is the function where we will code the responses to our query\n",
    "    \"\"\"\n",
    "    def query_bot(self, q):\n",
    "        if q == 'What is your name, bot?':\n",
    "            print(\"My name is\", self.name)\n",
    "            return\n",
    "        \n",
    "        if q == 'Get latest bitcoin price':\n",
    "            print(\"Bitcoin is currently trading at $\", self.price('BTC')['USD'])\n",
    "            return\n",
    "        # here you can add more queries using elif\n",
    "        \n",
    "\n",
    "    def price(self, symbol, comparison_symbols=['USD'], exchange=''):\n",
    "        url = 'https://min-api.cryptocompare.com/data/price?fsym={}&tsyms={}'\\\n",
    "                .format(symbol.upper(), ','.join(comparison_symbols).upper())\n",
    "        if exchange:\n",
    "            url += '&e={}'.format(exchange)\n",
    "        page = requests.get(url)\n",
    "        data = page.json()\n",
    "        return data"
   ]
  },
  {
   "cell_type": "code",
   "execution_count": 55,
   "metadata": {
    "collapsed": true
   },
   "outputs": [],
   "source": [
    "bot = BotHandler('monty')"
   ]
  },
  {
   "cell_type": "code",
   "execution_count": 56,
   "metadata": {
    "collapsed": false
   },
   "outputs": [
    {
     "name": "stdout",
     "output_type": "stream",
     "text": [
      "Bitcoin is currently trading at $ 6276.28\n"
     ]
    }
   ],
   "source": [
    "bot.query_bot('Get latest bitcoin price')"
   ]
  },
  {
   "cell_type": "markdown",
   "metadata": {},
   "source": [
    "If this makes you excited, I am very happy!\n",
    "\n",
    "Webscraping is super fun, and the world (wide web) is your oyster!\n",
    "\n",
    "Going forward with your webscraping career: learn to get comfortable with HTML, do a couple of HTML tutorials, learn how Requests work. Learn how to manipulate strings to get the most useful content from them!\n",
    "\n",
    "\n",
    "If you are interested in learning more about Natural Language Processing with Chatbots, and how Chatbots work, check out these resources:\n",
    "- https://apps.worldwritable.com/tutorials/chatbot/\n",
    "- https://towardsdatascience.com/the-top-5-best-chatbot-and-natural-language-processing-to-build-ai-for-your-business-3efea313d8db\n",
    "- https://www.expertsystem.com/chatbot/"
   ]
  },
  {
   "cell_type": "code",
   "execution_count": null,
   "metadata": {
    "collapsed": true
   },
   "outputs": [],
   "source": []
  }
 ],
 "metadata": {
  "kernelspec": {
   "display_name": "Python 3",
   "language": "python",
   "name": "python3"
  },
  "language_info": {
   "codemirror_mode": {
    "name": "ipython",
    "version": 3
   },
   "file_extension": ".py",
   "mimetype": "text/x-python",
   "name": "python",
   "nbconvert_exporter": "python",
   "pygments_lexer": "ipython3",
   "version": "3.5.3"
  }
 },
 "nbformat": 4,
 "nbformat_minor": 2
}
