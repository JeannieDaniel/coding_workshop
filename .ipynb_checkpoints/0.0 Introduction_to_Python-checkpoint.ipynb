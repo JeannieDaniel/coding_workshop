{
 "cells": [
  {
   "cell_type": "markdown",
   "metadata": {},
   "source": [
    "# Introduction to Python, the Intuitive Way\n",
    "#### 29 September, 2018\n",
    "#### Author: Jeanne Elizabeth Daniel\n",
    "\n",
    "Please run me in a Colab environment!"
   ]
  },
  {
   "cell_type": "code",
   "execution_count": 1,
   "metadata": {
    "collapsed": false
   },
   "outputs": [
    {
     "name": "stdout",
     "output_type": "stream",
     "text": [
      "Hello World!\n"
     ]
    }
   ],
   "source": [
    "print(\"Hello World!\")"
   ]
  },
  {
   "cell_type": "markdown",
   "metadata": {},
   "source": [
    "### What is Python?\n",
    "Python is an open-source, modern, robust, high level programming language. Python has a design philosophy that emphasizes code readability, notably using significant whitespace. It provides constructs that enable clear programming on both small and large scales.\n",
    "\n",
    "#### What is open-source? \n",
    "Open-Source code is original source code made freely available and which may be redistributed and modified.\n",
    "\n",
    "#### Why Modern?\n",
    "Released in 1991, making it one of the younger languages, (and a millenial)\n",
    "\n",
    "#### Why so robust? \n",
    "In Computer Science, robustness is the ability of a computer system to cope with errors during execution and cope with erroneous input. Python features a dynamic type system (interpreting code line by line) and automatic memory management, making it ideal for quick prototyping as well as constructing large, complicated systems. \n",
    "\n",
    "#### What does high-level language even mean? \n",
    "A high-level language (HLL) is a programming language that enables a programmer to write programs that are more or less independent of a particular type of computer. Such languages are considered high-level because they are closer to human languages and further from machine languages.\n",
    "\n",
    "More general programinning lingo can be found at https://hackernoon.com/i-finally-understand-static-vs-dynamic-typing-and-you-will-too-ad0c2bd0acc7\n",
    "\n",
    "It is very easy to pick up Python even if you are completely new to programming. (I'll prove it to you!)"
   ]
  },
  {
   "cell_type": "code",
   "execution_count": 2,
   "metadata": {
    "collapsed": true
   },
   "outputs": [],
   "source": [
    "import numpy as np\n",
    "import pandas as pd\n",
    "import matplotlib.pyplot as plt\n",
    "%matplotlib inline"
   ]
  },
  {
   "cell_type": "markdown",
   "metadata": {},
   "source": [
    "### Essential Libraries \n",
    "*See Notebooks 0.1, 0.2, 0.3 for  tutorials on these three libraries, which you can work through whenever you have time. NOTE: first make sure you have a solid understanding of the fundamentals before moving on to more difficult concepts.*\n",
    "\n",
    "Numpy, Pandas and Matplotlib.pyplot are arguably the most useful tools available to any scientist, and just with these three libraries you can do incredible things. We import the libraries we'll be making use of at the top of our script, always. We don't import unnecessary libraries as they all take up memory. \n",
    "\n",
    "#### Numpy\n",
    "NumPy is the fundamental package for scientific computing with Python. More information found at http://www.numpy.org\n",
    "Numpy provides\n",
    "  1. An array object of arbitrary homogeneous items\n",
    "  2. Fast mathematical operations over arrays\n",
    "  3. Linear Algebra, Fourier Transforms, Random Number Generation (And Statistical Tools)\n",
    "  \n",
    "#### Pandas\n",
    "Pandas is the most powerful and flexible open source data analysis / manipulation tool available in any language. It aims to be the fundamental high-level building block for doing practical, real world data analysis in Python. More found at https://pandas.pydata.org\n",
    "\n",
    "Here are just a few of the things that pandas does well:\n",
    "\n",
    "  - Easy handling of missing data in floating point as well as non-floating point data\n",
    "  - Size mutability: columns can be inserted and deleted from DataFrame and higher dimensional objects\n",
    "  - Automatic and explicit data alignment: objects can  be explicitly aligned to a set of labels, or the user can simply ignore the labels and let `Series`, `DataFrame`, etc. automatically align the data for you in\n",
    "    computations\n",
    "  - Powerful, flexible group by functionality to perform split-apply-combine operations on data sets, for both aggregating and transforming data\n",
    "  - Make it easy to convert ragged, differently-indexed data in other Python and NumPy data structures into DataFrame objects\n",
    "  - Intelligent label-based slicing, fancy indexing, and subsetting of large data sets\n",
    "  - Intuitive merging and joining data sets\n",
    "  - Flexible reshaping and pivoting of data sets\n",
    "  - Hierarchical labeling of axes (possible to have multiple labels per tick)\n",
    "  - Robust IO tools for loading data from flat files (CSV and delimited), Excel files, databases, and saving/loading data from the ultrafast HDF5 format\n",
    "  - Time series-specific functionality: date range generation and frequency conversion, moving window statistics, moving window linear regressions, date shifting and lagging, etc.\n",
    "\n",
    "#### Matplotlib.pyplot\n",
    "Matplotlib is a Python 2D plotting library which produces publication quality figures in a variety of hardcopy formats and interactive environments across platforms. Matplotlib tries to make easy things easy and hard things possible. You can generate plots, histograms, power spectra, bar charts, errorcharts, scatterplots, etc., with just a few lines of code. More information and tutorials can be found at https://matplotlib.org"
   ]
  },
  {
   "cell_type": "code",
   "execution_count": 3,
   "metadata": {
    "collapsed": false
   },
   "outputs": [
    {
     "name": "stdout",
     "output_type": "stream",
     "text": [
      "Let's get down to business\n",
      "Notebook agrees\n"
     ]
    }
   ],
   "source": [
    "print(\"Let's get down to business\")\n",
    "if True:\n",
    "    print(\"Notebook agrees\")\n",
    "else:\n",
    "    print(\"Please free me\")"
   ]
  },
  {
   "cell_type": "code",
   "execution_count": 4,
   "metadata": {
    "collapsed": true
   },
   "outputs": [],
   "source": [
    "# This is a comment. It does not execute code or anything. It's considered good practice to \n",
    "# add comments every now and again to help explain things, to yourself or others."
   ]
  },
  {
   "cell_type": "code",
   "execution_count": 5,
   "metadata": {
    "collapsed": false
   },
   "outputs": [
    {
     "name": "stdout",
     "output_type": "stream",
     "text": [
      "This is a line of code\n"
     ]
    }
   ],
   "source": [
    "print(\"This is a line of code\")"
   ]
  },
  {
   "cell_type": "markdown",
   "metadata": {},
   "source": [
    "## Back to Basics\n",
    "We will be covering the following topics -- datatypes, arrays, string functions, essential datastructures in python, and conditional statements.\n",
    "\n",
    "There are many more components to programming, but for getting started, you'll only need to have a basic understanding of these. \n",
    "\n",
    "### Datatypes\n",
    "There are a few primitive datatypes essential for programming: \n",
    "    - booleans (True, False)\n",
    "    - integers (-1, 5, 30, -455, etc)\n",
    "    - floats   (0.555555, 3.14, 6.89, etc)\n",
    "    - chars    ('a', '5', '#', '!', etc)\n",
    "    \n",
    "These primitive types are so simple but so powerful. The whole world wide web, every database, every programming function makes use of and relies on these primitive datatypes. "
   ]
  },
  {
   "cell_type": "markdown",
   "metadata": {},
   "source": [
    "#### What are Booleans?\n",
    "A boolean is a datatype that can only be one of two values, True or False. This can be used to make decisions in functions, and especially form the basis for If, While, and For functions. \n",
    "\n",
    "With booleans come Boolean Algebra (don't panic, this is the quickest Algebra you will ever master). \n",
    "There are two boolean algebra operations:\n",
    "    - AND\n",
    "    - OR\n",
    "In more complicated languages, AND is written as &&, and OR is written as ||."
   ]
  },
  {
   "cell_type": "code",
   "execution_count": 6,
   "metadata": {
    "collapsed": false
   },
   "outputs": [
    {
     "name": "stdout",
     "output_type": "stream",
     "text": [
      "And => both must\n",
      "True and True    = True\n",
      "True and False   = False\n",
      "False and True   = False\n",
      "False and False  = False\n"
     ]
    }
   ],
   "source": [
    "print(\"And => both must\") \n",
    "print(\"True and True    =\", True and True)\n",
    "print(\"True and False   =\", True and False)\n",
    "print(\"False and True   =\", False and True)\n",
    "print(\"False and False  =\", False and False)"
   ]
  },
  {
   "cell_type": "code",
   "execution_count": 7,
   "metadata": {
    "collapsed": false
   },
   "outputs": [
    {
     "name": "stdout",
     "output_type": "stream",
     "text": [
      "Or => either can\n",
      "True or True     = True\n",
      "True or False    = True\n",
      "False or True    = True\n",
      "False or False   = False\n"
     ]
    }
   ],
   "source": [
    "print(\"Or => either can\") \n",
    "print(\"True or True     =\", True or True)\n",
    "print(\"True or False    =\", True or False)\n",
    "print(\"False or True    =\", False or True)\n",
    "print(\"False or False   =\", False or False)"
   ]
  },
  {
   "cell_type": "markdown",
   "metadata": {},
   "source": [
    "We can also negate Boolean (get the opposite) using the word **not**\n"
   ]
  },
  {
   "cell_type": "code",
   "execution_count": 96,
   "metadata": {
    "collapsed": false
   },
   "outputs": [
    {
     "name": "stdout",
     "output_type": "stream",
     "text": [
      "Not => opposite\n",
      "Not True:  False\n",
      "Not False:  True\n"
     ]
    }
   ],
   "source": [
    "print(\"Not => opposite\")\n",
    "print(\"Not True: \", not True)\n",
    "print(\"Not False: \", not False)"
   ]
  },
  {
   "cell_type": "markdown",
   "metadata": {},
   "source": [
    "<div class=\"alert alert-success\" data-title=\"Boolean algebra\">\n",
    "  <h1><i class=\"fa fa-tasks\" aria-hidden=\"true\"></i> Exercise: Boolean algebra</h1>\n",
    "</div>\n",
    "\n",
    "See if you can guess what the answer of the following combinations are:\n",
    "    - (True or False) and (True or False)\n",
    "    - (not True and True) and (not False and True)\n",
    "    - (not False) or (not True)\n",
    "    - (not False) and False\n",
    "    - not (True and False)\n",
    "\n",
    "\n",
    "**Hint**: Like in normal algebra, you first evaluate that which is inside a bracket.\n",
    "    \n",
    "**Hint**: When you are done, you can just copy paste them in a line of code to see if you were right!"
   ]
  },
  {
   "cell_type": "code",
   "execution_count": 97,
   "metadata": {
    "collapsed": false
   },
   "outputs": [
    {
     "data": {
      "text/plain": [
       "True"
      ]
     },
     "execution_count": 97,
     "metadata": {},
     "output_type": "execute_result"
    }
   ],
   "source": [
    "# For example\n",
    "not (True and False)"
   ]
  },
  {
   "cell_type": "markdown",
   "metadata": {},
   "source": [
    "Congratulations! You just mastered boolean algebra operations!"
   ]
  },
  {
   "cell_type": "markdown",
   "metadata": {},
   "source": [
    "#### What are integers?\n",
    "Integers are just plain round numbers, and can be considered countable infinite (why?) We use integers to index in lists and arrays. Computers do powerful and quick math. And they love numbers. Try doing 133*57 in your head?"
   ]
  },
  {
   "cell_type": "code",
   "execution_count": 8,
   "metadata": {
    "collapsed": false
   },
   "outputs": [
    {
     "data": {
      "text/plain": [
       "7581"
      ]
     },
     "execution_count": 8,
     "metadata": {},
     "output_type": "execute_result"
    }
   ],
   "source": [
    "133*57"
   ]
  },
  {
   "cell_type": "markdown",
   "metadata": {},
   "source": [
    "Don't worry, computers still can't think for themselves though. \n",
    "\n",
    "So what are the operations we can do with integers? Well, all the usual mathy stuff:\n",
    "    - add\n",
    "    - subtract\n",
    "    - multiply\n",
    "    - divide\n",
    "    - modular\n",
    "    - yeah, that's about it.\n",
    "    \n",
    "To this day, it still blows my mind that the whole world's computer systems runs using these simple operations. They are like the mitochondrial DNA of all things computers.\n",
    "\n",
    "NOTE: dividing integers by one another will produce floats"
   ]
  },
  {
   "cell_type": "code",
   "execution_count": 9,
   "metadata": {
    "collapsed": false
   },
   "outputs": [
    {
     "name": "stdout",
     "output_type": "stream",
     "text": [
      "3+1= 4\n",
      "3-1= 2\n",
      "3*1= 3\n",
      "3/1= 3.0 (see here the resulting float)\n",
      "3%1= 0\n"
     ]
    }
   ],
   "source": [
    "print(\"3+1=\", 3+1)\n",
    "print(\"3-1=\", 3-1)\n",
    "print(\"3*1=\", 3*1)\n",
    "print(\"3/1=\", 3/1, \"(see here the resulting float)\")\n",
    "print(\"3%1=\", 3%1)"
   ]
  },
  {
   "cell_type": "markdown",
   "metadata": {},
   "source": [
    "#### What are Floats?\n",
    "Floats include everything that happens between integers. For example, between the integers 0 and 1 there is nothing. Nada. \n",
    "\n",
    "Between the floats 0.0 and 1.0 there is a continous and infinite amount of floating point numbers.\n",
    "\n",
    "0.1, 0.2, 0.3, 0.4... But also \n",
    "\n",
    "0.11, 0.12, 0.13, 0.14... And even further:\n",
    "\n",
    "0.111, 0.112, 0.113, 0.114...\n",
    "\n",
    "\n",
    "Because of this property, floats are uncountable infinite. "
   ]
  },
  {
   "cell_type": "code",
   "execution_count": 10,
   "metadata": {
    "collapsed": false
   },
   "outputs": [
    {
     "name": "stdout",
     "output_type": "stream",
     "text": [
      "1/3           = 0.3333333333333333\n",
      "pi            = 3.141592653589793\n",
      "random number = 0.5039624571152262\n"
     ]
    }
   ],
   "source": [
    "print(\"1/3           =\", 1/3)\n",
    "print(\"pi            =\", np.pi)\n",
    "print(\"random number =\", np.random.random())"
   ]
  },
  {
   "cell_type": "markdown",
   "metadata": {},
   "source": [
    "Note: just because the computer prints out that amount of numbers, does not mean the digits following the . necessarily end there. For example the digits of PI are infinite. "
   ]
  },
  {
   "cell_type": "markdown",
   "metadata": {},
   "source": [
    "#### What are chars?\n",
    "Chars are short for characters, which is a data type that holds one character (letter, number, etc.) of data.. Chars are captured between quotation marks. Some operands, like + and *, can be used on chars.\n",
    "\n",
    "For example, 'a', '4', '#', etc, are all chars. \n",
    "\n",
    "Fun fact: strings are char arrays."
   ]
  },
  {
   "cell_type": "code",
   "execution_count": 11,
   "metadata": {
    "collapsed": false
   },
   "outputs": [
    {
     "data": {
      "text/plain": [
       "'ab'"
      ]
     },
     "execution_count": 11,
     "metadata": {},
     "output_type": "execute_result"
    }
   ],
   "source": [
    "'a' + 'b'"
   ]
  },
  {
   "cell_type": "code",
   "execution_count": 12,
   "metadata": {
    "collapsed": false
   },
   "outputs": [
    {
     "ename": "TypeError",
     "evalue": "unsupported operand type(s) for -: 'str' and 'str'",
     "output_type": "error",
     "traceback": [
      "\u001b[0;31m---------------------------------------------------------------------------\u001b[0m",
      "\u001b[0;31mTypeError\u001b[0m                                 Traceback (most recent call last)",
      "\u001b[0;32m<ipython-input-12-ee1600b48b96>\u001b[0m in \u001b[0;36m<module>\u001b[0;34m()\u001b[0m\n\u001b[0;32m----> 1\u001b[0;31m \u001b[0;34m'a'\u001b[0m \u001b[0;34m-\u001b[0m \u001b[0;34m'b'\u001b[0m\u001b[0;34m\u001b[0m\u001b[0m\n\u001b[0m",
      "\u001b[0;31mTypeError\u001b[0m: unsupported operand type(s) for -: 'str' and 'str'"
     ]
    }
   ],
   "source": [
    "'a' - 'b'"
   ]
  },
  {
   "cell_type": "code",
   "execution_count": 13,
   "metadata": {
    "collapsed": false
   },
   "outputs": [
    {
     "data": {
      "text/plain": [
       "'aaaaa'"
      ]
     },
     "execution_count": 13,
     "metadata": {},
     "output_type": "execute_result"
    }
   ],
   "source": [
    "'a'*5"
   ]
  },
  {
   "cell_type": "markdown",
   "metadata": {},
   "source": [
    "### Arrays\n",
    "An one-dimensional array is an Nx1 dimensional grid-like data store. Don't overthink it. Think about it like this: \n",
    "1. We have a bookshelf. \n",
    "2. All the books are indexed, starting from 0, and ending at N, where N is an arbitrary large integer. \n",
    "3. Each book on the shelf is a single, discrete entity, representing a value. It can be any value, 20000, or 2, or 200. \n",
    "4. If we want to access the value at index i, we need only look through all the indexes (on the books) until we find i, and then we will know the value that exists at bookshelf[i].\n",
    "\n",
    "This is the essence of arrays. It is a very simple, but powerful data structure, that has an index i = 0...N and values stored at each index i of that array. \n",
    "\n",
    "So how do we code arrays? With Numpy of course!"
   ]
  },
  {
   "cell_type": "markdown",
   "metadata": {},
   "source": [
    "#### One-dimensional arrays"
   ]
  },
  {
   "cell_type": "code",
   "execution_count": 14,
   "metadata": {
    "collapsed": false
   },
   "outputs": [
    {
     "data": {
      "text/plain": [
       "array([1, 2, 3, 4])"
      ]
     },
     "execution_count": 14,
     "metadata": {},
     "output_type": "execute_result"
    }
   ],
   "source": [
    "np.array([1, 2, 3, 4])"
   ]
  },
  {
   "cell_type": "markdown",
   "metadata": {},
   "source": [
    "#### Two-dimensional arrays (matrices)"
   ]
  },
  {
   "cell_type": "code",
   "execution_count": 15,
   "metadata": {
    "collapsed": false
   },
   "outputs": [
    {
     "data": {
      "text/plain": [
       "array([[1, 2],\n",
       "       [3, 4]])"
      ]
     },
     "execution_count": 15,
     "metadata": {},
     "output_type": "execute_result"
    }
   ],
   "source": [
    "np.array([[1, 2], [3, 4]])"
   ]
  },
  {
   "cell_type": "markdown",
   "metadata": {},
   "source": [
    "A lot more content on Numpy and arrays can be found in Notebook 01"
   ]
  },
  {
   "cell_type": "markdown",
   "metadata": {},
   "source": [
    "### String Functions\n",
    "Before we can define string functions, we should probably define strings. So, what are strings?\n",
    "\n",
    "##### Strings are sequences/arrays of chars.\n",
    "\n",
    "Pay close attention here, because we will be using this information to build our chatbot later!"
   ]
  },
  {
   "cell_type": "markdown",
   "metadata": {},
   "source": [
    "#### Char"
   ]
  },
  {
   "cell_type": "code",
   "execution_count": 16,
   "metadata": {
    "collapsed": false
   },
   "outputs": [
    {
     "data": {
      "text/plain": [
       "'a'"
      ]
     },
     "execution_count": 16,
     "metadata": {},
     "output_type": "execute_result"
    }
   ],
   "source": [
    "'a'"
   ]
  },
  {
   "cell_type": "markdown",
   "metadata": {},
   "source": [
    "#### String: a sequence of chars"
   ]
  },
  {
   "cell_type": "code",
   "execution_count": 17,
   "metadata": {
    "collapsed": false
   },
   "outputs": [
    {
     "data": {
      "text/plain": [
       "'abcd'"
      ]
     },
     "execution_count": 17,
     "metadata": {},
     "output_type": "execute_result"
    }
   ],
   "source": [
    "'a' + 'b' + 'c' + 'd'"
   ]
  },
  {
   "cell_type": "markdown",
   "metadata": {},
   "source": [
    "Strings enable us to build powerful tools, because they can store so much information! A lot of unstructured data, such as social media posts, user reviews, movie descriptions, etc are stored as strings, so it is very useful to learn how to handle them. \n",
    "\n",
    "Let's take a look at some of the most commonly used built-in string functions:\n",
    "\n",
    "    - str.find()\n",
    "    - str.count()\n",
    "    - str.lstrip()\n",
    "    - str.rstrip()\n",
    "    - str.join()\n",
    "    - str.split()\n",
    "    - str.replace()\n",
    "    - str.upper()\n",
    "    - str.lower()\n",
    "    - str.capitalize()\n",
    "    \n",
    "Boolean functions are functions that return True or False, and they usually start with \"is\":\n",
    "\n",
    "    - str.isalnum()\n",
    "    - str.isalpha()\n",
    "    - str.islower()\n",
    "    - str.isnumeric()\n",
    "    - str.isdigit()\n",
    "    - str.isspace()\n",
    "    - str.isupper()\n",
    "\n",
    "    \n",
    "There are some other tricks we can do, like determining the length of a string, using len(). We replace the *str* with our chosen string, for example: "
   ]
  },
  {
   "cell_type": "code",
   "execution_count": 18,
   "metadata": {
    "collapsed": false
   },
   "outputs": [
    {
     "name": "stdout",
     "output_type": "stream",
     "text": [
      "'hello' is all lower case:  True\n"
     ]
    }
   ],
   "source": [
    "print(\"'hello' is all lower case: \", \"hello\".islower())"
   ]
  },
  {
   "cell_type": "code",
   "execution_count": 19,
   "metadata": {
    "collapsed": false
   },
   "outputs": [
    {
     "name": "stdout",
     "output_type": "stream",
     "text": [
      "'12345' are all numeric:  True\n"
     ]
    }
   ],
   "source": [
    "print(\"'12345' are all numeric: \", \"12345\".isnumeric())"
   ]
  },
  {
   "cell_type": "markdown",
   "metadata": {},
   "source": [
    "The difference between str.isalpha() and str.isalnum() is that the first only looks for alphabet letters, where the second one will return true if there are either alphabet or numerical values."
   ]
  },
  {
   "cell_type": "code",
   "execution_count": 20,
   "metadata": {
    "collapsed": false
   },
   "outputs": [
    {
     "data": {
      "text/plain": [
       "False"
      ]
     },
     "execution_count": 20,
     "metadata": {},
     "output_type": "execute_result"
    }
   ],
   "source": [
    "\"12alphabet\".isalpha()"
   ]
  },
  {
   "cell_type": "code",
   "execution_count": 21,
   "metadata": {
    "collapsed": false
   },
   "outputs": [
    {
     "data": {
      "text/plain": [
       "False"
      ]
     },
     "execution_count": 21,
     "metadata": {},
     "output_type": "execute_result"
    }
   ],
   "source": [
    "\"12alphabet\".isnumeric()"
   ]
  },
  {
   "cell_type": "code",
   "execution_count": 22,
   "metadata": {
    "collapsed": false
   },
   "outputs": [
    {
     "data": {
      "text/plain": [
       "True"
      ]
     },
     "execution_count": 22,
     "metadata": {},
     "output_type": "execute_result"
    }
   ],
   "source": [
    "\"12alphabet\".isalnum()"
   ]
  },
  {
   "cell_type": "markdown",
   "metadata": {
    "collapsed": true
   },
   "source": [
    "Let's take a look at some of the built-in functions. How can we convert lowercase to uppercase and vice versa, or only capitalize the first character of a word?"
   ]
  },
  {
   "cell_type": "code",
   "execution_count": 23,
   "metadata": {
    "collapsed": false
   },
   "outputs": [
    {
     "data": {
      "text/plain": [
       "'HELLO'"
      ]
     },
     "execution_count": 23,
     "metadata": {},
     "output_type": "execute_result"
    }
   ],
   "source": [
    "\"Hello\".upper()"
   ]
  },
  {
   "cell_type": "code",
   "execution_count": 24,
   "metadata": {
    "collapsed": false
   },
   "outputs": [
    {
     "data": {
      "text/plain": [
       "'hello'"
      ]
     },
     "execution_count": 24,
     "metadata": {},
     "output_type": "execute_result"
    }
   ],
   "source": [
    "\"Hello\".lower()"
   ]
  },
  {
   "cell_type": "code",
   "execution_count": 25,
   "metadata": {
    "collapsed": false
   },
   "outputs": [
    {
     "data": {
      "text/plain": [
       "'Hello'"
      ]
     },
     "execution_count": 25,
     "metadata": {},
     "output_type": "execute_result"
    }
   ],
   "source": [
    "\"hELLO\".capitalize()"
   ]
  },
  {
   "cell_type": "markdown",
   "metadata": {},
   "source": [
    "Now, might we learn if a string contains a certain character"
   ]
  },
  {
   "cell_type": "code",
   "execution_count": 26,
   "metadata": {
    "collapsed": true
   },
   "outputs": [],
   "source": [
    "big_string = \"the quick brown fox jumped over the hedge\"\n",
    "sub_string = \"fox\""
   ]
  },
  {
   "cell_type": "markdown",
   "metadata": {},
   "source": [
    "Say we want to know if the big string *\"the quick brown fox jumped over the hedge\"* contained the substring, *\"fox\"*. \n",
    "\n",
    "(Because strings are just sequences of chars, each char also has an index, starting at 0.)\n",
    "\n",
    "The function, str.find() will return the starting index of the substring, if it is found in the big string, otherwise it will return -1. Observe:"
   ]
  },
  {
   "cell_type": "code",
   "execution_count": 27,
   "metadata": {
    "collapsed": false
   },
   "outputs": [
    {
     "data": {
      "text/plain": [
       "16"
      ]
     },
     "execution_count": 27,
     "metadata": {},
     "output_type": "execute_result"
    }
   ],
   "source": [
    "big_string.find(sub_string)"
   ]
  },
  {
   "cell_type": "markdown",
   "metadata": {},
   "source": [
    "Looks like the substring \"fox\" is at the 16th character in our big string!"
   ]
  },
  {
   "cell_type": "code",
   "execution_count": 28,
   "metadata": {
    "collapsed": false
   },
   "outputs": [
    {
     "data": {
      "text/plain": [
       "-1"
      ]
     },
     "execution_count": 28,
     "metadata": {},
     "output_type": "execute_result"
    }
   ],
   "source": [
    "big_string.find(\"random\")"
   ]
  },
  {
   "cell_type": "markdown",
   "metadata": {},
   "source": [
    "Obviously the substring \"random\" does not occur in our big string."
   ]
  },
  {
   "cell_type": "markdown",
   "metadata": {},
   "source": [
    "#### Quick Look at Functions\n",
    "If we are only interested in knowing whether or not the substring is contained in the big string or not, we can write our own boolean function for that:"
   ]
  },
  {
   "cell_type": "code",
   "execution_count": 29,
   "metadata": {
    "collapsed": true
   },
   "outputs": [],
   "source": [
    "def contains(big_string, sub_string):\n",
    "    if big_string.find(sub_string) > -1:\n",
    "        return True\n",
    "    else:\n",
    "        return False"
   ]
  },
  {
   "cell_type": "markdown",
   "metadata": {},
   "source": [
    "Okay whoah. So what happened here? We just wrote our first function! \n",
    "\n",
    "Functions in Python have the following skeleton where we:\n",
    "    - indicate the start of a function with the word **def**\n",
    "    - the name of the function(what you will use to call it), in our case **contains**\n",
    "    - followed by all the parameters you need to pass to it, enclosed in brackets, in our case the **(big_string, substring)**\n",
    "    - this first line is finished off with a compulsory **:**, where your code begins\n",
    "    - functions can return any datatype you like -- indicated by the word **return**. \n",
    "    - if you don't specify a return value, it will return a **NoneType**"
   ]
  },
  {
   "cell_type": "code",
   "execution_count": 30,
   "metadata": {
    "collapsed": true
   },
   "outputs": [],
   "source": [
    "def none_type_demo():\n",
    "    print(\"\")"
   ]
  },
  {
   "cell_type": "code",
   "execution_count": 31,
   "metadata": {
    "collapsed": false
   },
   "outputs": [
    {
     "name": "stdout",
     "output_type": "stream",
     "text": [
      "\n",
      "None\n"
     ]
    }
   ],
   "source": [
    "print(none_type_demo())"
   ]
  },
  {
   "cell_type": "markdown",
   "metadata": {},
   "source": [
    "#### Back to strings!\n",
    "See? All good!\n",
    "Now we will test our contains function on some other big strings and substring, feel free to play around with them! Note how the current **contains** function is case-senstive. \n"
   ]
  },
  {
   "cell_type": "code",
   "execution_count": 32,
   "metadata": {
    "collapsed": false
   },
   "outputs": [
    {
     "data": {
      "text/plain": [
       "True"
      ]
     },
     "execution_count": 32,
     "metadata": {},
     "output_type": "execute_result"
    }
   ],
   "source": [
    "contains(\"hello world\", \"hell\")"
   ]
  },
  {
   "cell_type": "code",
   "execution_count": 33,
   "metadata": {
    "collapsed": false
   },
   "outputs": [
    {
     "data": {
      "text/plain": [
       "False"
      ]
     },
     "execution_count": 33,
     "metadata": {},
     "output_type": "execute_result"
    }
   ],
   "source": [
    "contains(\"hello world\", \"HELL\")"
   ]
  },
  {
   "cell_type": "code",
   "execution_count": 34,
   "metadata": {
    "collapsed": false
   },
   "outputs": [
    {
     "data": {
      "text/plain": [
       "False"
      ]
     },
     "execution_count": 34,
     "metadata": {},
     "output_type": "execute_result"
    }
   ],
   "source": [
    "contains(\"hello world\", \"hell\".upper())"
   ]
  },
  {
   "cell_type": "markdown",
   "metadata": {},
   "source": [
    "<div class=\"alert alert-success\" data-title=\"Case Insensitive Contains Function\">\n",
    "  <h1><i class=\"fa fa-tasks\" aria-hidden=\"true\"></i> Exercise: Case Insensitive Contains Function</h1>\n",
    "</div>\n",
    "\n",
    "Machines don't really care (or know) about upper or lowercase. For them \"a\" and \"A\" are as far apart as \"a\" and \"#\". So how do we make the machine understand that \"a\" and \"A\", in most contexts, actually mean the same thing? \n",
    "\n",
    "Try to change the **contains** function to be CASE-INSENSITIVE, i.e. it should match regardless of the word being uppercase or lowercase. \n",
    "\n",
    "**Hint**: take a look at the line just above."
   ]
  },
  {
   "cell_type": "code",
   "execution_count": 38,
   "metadata": {
    "collapsed": false
   },
   "outputs": [],
   "source": [
    "def case_insensitve_contains(big_string, sub_string):\n",
    "    # your code goes here"
   ]
  },
  {
   "cell_type": "markdown",
   "metadata": {},
   "source": [
    "#### String Slicing in Python\n",
    "Since strings are sequences of chars, you can access them through slicing and indexing. Each character in a string has its own index, where the first character has index 0.\n",
    "\n",
    "Suppose we have the following string:"
   ]
  },
  {
   "cell_type": "code",
   "execution_count": 36,
   "metadata": {
    "collapsed": true
   },
   "outputs": [],
   "source": [
    "my_string = \"Chocolate cookies are divine\""
   ]
  },
  {
   "cell_type": "markdown",
   "metadata": {},
   "source": [
    "and we'd like to know where the word \"cookie\" starts, so we can isolate the part from where \"cookie\" starts."
   ]
  },
  {
   "cell_type": "code",
   "execution_count": 37,
   "metadata": {
    "collapsed": false
   },
   "outputs": [
    {
     "data": {
      "text/plain": [
       "10"
      ]
     },
     "execution_count": 37,
     "metadata": {},
     "output_type": "execute_result"
    }
   ],
   "source": [
    "my_string.find(\"cookie\")"
   ]
  },
  {
   "cell_type": "markdown",
   "metadata": {},
   "source": [
    "Great, so now we know that in our string, the word \"cookie\" is located at index 10. If we now want to separate that part, we do as follows:"
   ]
  },
  {
   "cell_type": "code",
   "execution_count": 39,
   "metadata": {
    "collapsed": false
   },
   "outputs": [
    {
     "data": {
      "text/plain": [
       "'cookies are divine'"
      ]
     },
     "execution_count": 39,
     "metadata": {},
     "output_type": "execute_result"
    }
   ],
   "source": [
    "my_string[10:]"
   ]
  },
  {
   "cell_type": "markdown",
   "metadata": {},
   "source": [
    "How do we make this more dynamic? We can store the index of \"cookie\" as a variable and reference that, instead of typing it in manually."
   ]
  },
  {
   "cell_type": "code",
   "execution_count": 40,
   "metadata": {
    "collapsed": false
   },
   "outputs": [
    {
     "data": {
      "text/plain": [
       "'cookies are divine'"
      ]
     },
     "execution_count": 40,
     "metadata": {},
     "output_type": "execute_result"
    }
   ],
   "source": [
    "cookie_index = my_string.find(\"cookie\")\n",
    "my_string[cookie_index:]"
   ]
  },
  {
   "cell_type": "markdown",
   "metadata": {},
   "source": [
    "Suppose we want only what comes before the word \"cookie\"?"
   ]
  },
  {
   "cell_type": "code",
   "execution_count": 41,
   "metadata": {
    "collapsed": false
   },
   "outputs": [
    {
     "data": {
      "text/plain": [
       "'Chocolate'"
      ]
     },
     "execution_count": 41,
     "metadata": {},
     "output_type": "execute_result"
    }
   ],
   "source": [
    "my_string[:cookie_index].rstrip() #rstrip removes white space on the right side of a string"
   ]
  },
  {
   "cell_type": "markdown",
   "metadata": {},
   "source": [
    "If you have been paying close attention, you will have noticed that we created substrings using \":\" in square brackets. This is called **Slicing**, cause we are, quite literally, slicing strings (or arrays, or lists)."
   ]
  },
  {
   "cell_type": "markdown",
   "metadata": {},
   "source": [
    "<div class=\"alert alert-success\" data-title=\"Slicing\">\n",
    "  <h1><i class=\"fa fa-tasks\" aria-hidden=\"true\"></i> Exercise: Slicing Strings</h1>\n",
    "</div>\n",
    "\n",
    "Let's try slicing one string containing two sentences into two substrings, each containing one sentence.\n",
    "\n",
    "\n",
    "**Hint**: you will have to slice twice, and take a look again at the two lines of code above this. Also remember that the find function returns the *first* occurence of a substring. "
   ]
  },
  {
   "cell_type": "code",
   "execution_count": 42,
   "metadata": {
    "collapsed": true
   },
   "outputs": [],
   "source": [
    "big_string = \"This is sentence 1. This is sentence 2.\"\n",
    "### your code goes here \n",
    "\n",
    "#store the two (split) sentences in these two variables:\n",
    "sentence_1 = \"\"\n",
    "sentence_2 = \"\"\n"
   ]
  },
  {
   "cell_type": "markdown",
   "metadata": {},
   "source": [
    "#### Joining strings  \n",
    "Now that you have mastered slicing strings, we will look at joining the strings. "
   ]
  },
  {
   "cell_type": "code",
   "execution_count": 43,
   "metadata": {
    "collapsed": false
   },
   "outputs": [
    {
     "data": {
      "text/plain": [
       "'a, b'"
      ]
     },
     "execution_count": 43,
     "metadata": {},
     "output_type": "execute_result"
    }
   ],
   "source": [
    "\"a\" + \", \" + \"b\" "
   ]
  },
  {
   "cell_type": "markdown",
   "metadata": {},
   "source": [
    "This works fine if we have few things to join, but say we have our substrings in a list:"
   ]
  },
  {
   "cell_type": "code",
   "execution_count": 44,
   "metadata": {
    "collapsed": false
   },
   "outputs": [
    {
     "data": {
      "text/plain": [
       "'a, b'"
      ]
     },
     "execution_count": 44,
     "metadata": {},
     "output_type": "execute_result"
    }
   ],
   "source": [
    "\", \".join([\"a\", \"b\"])"
   ]
  },
  {
   "cell_type": "markdown",
   "metadata": {},
   "source": [
    "This produces the exact same output, but is in fact a much more efficient way to join substrings, if the characters separating the substrings are all the same.\n",
    "\n",
    "**In programming, we always try and write as little and as efficient code as possible to do the most. We try and reproduce quality code wherever we can. We do not try and reinvent the wheel every time.** "
   ]
  },
  {
   "cell_type": "markdown",
   "metadata": {},
   "source": [
    "<div class=\"alert alert-success\" data-title=\"Slicing\">\n",
    "  <h1><i class=\"fa fa-tasks\" aria-hidden=\"true\"></i> Exercise: Joining Strings</h1>\n",
    "</div>\n",
    "\n",
    "Let's try joining the two sentences again into one string, with a \". \" separating the two sentences.\n",
    "\n",
    "\n",
    "**Hint**: take a look at the line of code just above. "
   ]
  },
  {
   "cell_type": "code",
   "execution_count": 45,
   "metadata": {
    "collapsed": true
   },
   "outputs": [],
   "source": [
    "### Your code goes here"
   ]
  },
  {
   "cell_type": "markdown",
   "metadata": {},
   "source": [
    "#### Splitting on delimiters\n",
    "What is a delimiter? (Even I had to google this quickly!) \n",
    "\n",
    "This is what the top result gave my:\n",
    "\n",
    "\"A delimiter is a sequence of one or more characters used to specify the boundary between separate, independent regions in plain text or other data streams. An example of a delimter is a comma character, which acts as a field delimiter in a sequence of comma-separated values.\"\n",
    "\n",
    "**TLDR**: it separates independent stuff and is useful for splitting into those independent stuff"
   ]
  },
  {
   "cell_type": "code",
   "execution_count": 46,
   "metadata": {
    "collapsed": true
   },
   "outputs": [],
   "source": [
    "groceries = \"eggs, milk, meat, strawberries, cocao, coffee, rusks, protein shakes\""
   ]
  },
  {
   "cell_type": "markdown",
   "metadata": {},
   "source": [
    "Suppose we have a grocery list like the one above and we want to separate each item and actually store it in a list. \n",
    "\n",
    "How might we go about doing this? First thing would be to identify a useful delimiter that we can split on.\n",
    "\n",
    "How about white space? Let's try that:"
   ]
  },
  {
   "cell_type": "code",
   "execution_count": 47,
   "metadata": {
    "collapsed": false
   },
   "outputs": [
    {
     "data": {
      "text/plain": [
       "['eggs,',\n",
       " 'milk,',\n",
       " 'meat,',\n",
       " 'strawberries,',\n",
       " 'cocao,',\n",
       " 'coffee,',\n",
       " 'rusks,',\n",
       " 'protein',\n",
       " 'shakes']"
      ]
     },
     "execution_count": 47,
     "metadata": {},
     "output_type": "execute_result"
    }
   ],
   "source": [
    "groceries.split(\" \")"
   ]
  },
  {
   "cell_type": "markdown",
   "metadata": {},
   "source": [
    "Whoops. Seems like \"protein shakes\" got split into two things. What other delimiter could we use?"
   ]
  },
  {
   "cell_type": "markdown",
   "metadata": {},
   "source": [
    "<div class=\"alert alert-success\" data-title=\"Slicing\">\n",
    "  <h1><i class=\"fa fa-tasks\" aria-hidden=\"true\"></i> Exercise: Splitting Strings Using Delimiters</h1>\n",
    "</div>\n",
    "\n",
    "Let's try splitting all the items of our grocery list into a Python list, by splitting on a delimiter.\n",
    "\n",
    "\n",
    "**Expected output**: \n",
    "['eggs',\n",
    " 'milk',\n",
    " 'meat',\n",
    " 'strawberries',\n",
    " 'cocao',\n",
    " 'coffee',\n",
    " 'rusks',\n",
    " 'protein shakes']"
   ]
  },
  {
   "cell_type": "code",
   "execution_count": 48,
   "metadata": {
    "collapsed": true
   },
   "outputs": [],
   "source": [
    "### Your code goes here"
   ]
  },
  {
   "cell_type": "markdown",
   "metadata": {},
   "source": [
    "### Essential Datastructures in Python\n",
    "The essential datastructures we will be looking at are Lists and Dictionaries. We have already looked at Strings and Arrays. \n",
    "\n",
    "#### Lists\n",
    "Lists are quite similar to Arrays, except they aren't limited to containing just numeric values. In fact, you can store different types of data and even variables in the same lists. You can even store lists in lists!\n"
   ]
  },
  {
   "cell_type": "code",
   "execution_count": 49,
   "metadata": {
    "collapsed": true
   },
   "outputs": [],
   "source": [
    "verb_var = \"verbs\""
   ]
  },
  {
   "cell_type": "code",
   "execution_count": 50,
   "metadata": {
    "collapsed": true
   },
   "outputs": [],
   "source": [
    "my_list = [\"words\", verb_var, 44, [1, 2, 3]]"
   ]
  },
  {
   "cell_type": "code",
   "execution_count": 51,
   "metadata": {
    "collapsed": false
   },
   "outputs": [
    {
     "name": "stdout",
     "output_type": "stream",
     "text": [
      "['words', 'verbs', 44, [1, 2, 3]]\n"
     ]
    }
   ],
   "source": [
    "print(my_list)"
   ]
  },
  {
   "cell_type": "markdown",
   "metadata": {},
   "source": [
    "Note how the variable **verb_var** prints out its value, and not the name of the variable!"
   ]
  },
  {
   "cell_type": "markdown",
   "metadata": {},
   "source": [
    "Indexing in lists are the same as in arrays. Say we want to access the first and the last item in our list.\n",
    "\n",
    "We know that the first item gets stored at index 0, but what about the last one? Say we don't know the length of our list?"
   ]
  },
  {
   "cell_type": "code",
   "execution_count": 52,
   "metadata": {
    "collapsed": false
   },
   "outputs": [
    {
     "name": "stdout",
     "output_type": "stream",
     "text": [
      "First item in my list: words\n"
     ]
    }
   ],
   "source": [
    "print(\"First item in my list:\", my_list[0])"
   ]
  },
  {
   "cell_type": "code",
   "execution_count": 53,
   "metadata": {
    "collapsed": false
   },
   "outputs": [
    {
     "name": "stdout",
     "output_type": "stream",
     "text": [
      "Last item in my list: ?\n"
     ]
    }
   ],
   "source": [
    "print(\"Last item in my list:\", \"?\")"
   ]
  },
  {
   "cell_type": "markdown",
   "metadata": {},
   "source": [
    "One way to do this is to determine the length of our list, and using that as our index:"
   ]
  },
  {
   "cell_type": "code",
   "execution_count": 54,
   "metadata": {
    "collapsed": false
   },
   "outputs": [
    {
     "name": "stdout",
     "output_type": "stream",
     "text": [
      "Length of my list: 4\n"
     ]
    }
   ],
   "source": [
    "print(\"Length of my list:\", len(my_list))"
   ]
  },
  {
   "cell_type": "markdown",
   "metadata": {},
   "source": [
    "Remember the length of our list is the same as the number of items in our list."
   ]
  },
  {
   "cell_type": "code",
   "execution_count": 55,
   "metadata": {
    "collapsed": false
   },
   "outputs": [
    {
     "name": "stdout",
     "output_type": "stream",
     "text": [
      "Last item in my list: [1, 2, 3]\n"
     ]
    }
   ],
   "source": [
    "length_of_list = len(my_list)\n",
    "print(\"Last item in my list:\", my_list[length_of_list -1])"
   ]
  },
  {
   "cell_type": "markdown",
   "metadata": {},
   "source": [
    "A more efficient way is to actually use the [-1], which gives the the index from the back:"
   ]
  },
  {
   "cell_type": "code",
   "execution_count": 56,
   "metadata": {
    "collapsed": false
   },
   "outputs": [
    {
     "name": "stdout",
     "output_type": "stream",
     "text": [
      "Last item in my list: [1, 2, 3]\n"
     ]
    }
   ],
   "source": [
    "print(\"Last item in my list:\", my_list[-1])"
   ]
  },
  {
   "cell_type": "markdown",
   "metadata": {},
   "source": [
    "<div class=\"alert alert-success\" data-title=\"Indexing\">\n",
    "  <h1><i class=\"fa fa-tasks\" aria-hidden=\"true\"></i> Exercise: Negative Indexing in Lists</h1>\n",
    "</div>\n",
    "\n",
    "Try accessing the second-last item in the list.\n",
    "\n",
    "\n",
    "**Expected output**: 44"
   ]
  },
  {
   "cell_type": "code",
   "execution_count": 57,
   "metadata": {
    "collapsed": true
   },
   "outputs": [],
   "source": [
    "### Your code goes here"
   ]
  },
  {
   "cell_type": "markdown",
   "metadata": {},
   "source": [
    "Slicing in Lists occur the same way as in Strings. Lets see how well you remember Slicing!"
   ]
  },
  {
   "cell_type": "markdown",
   "metadata": {},
   "source": [
    "<div class=\"alert alert-success\" data-title=\"Slicing\">\n",
    "  <h1><i class=\"fa fa-tasks\" aria-hidden=\"true\"></i> Exercise: Slicing in Lists</h1>\n",
    "</div>\n",
    "\n",
    "Try splitting the list into a sublist where we only keep the first two items.\n",
    "\n",
    "\n",
    "**Expected output**: ['words', 'verbs']"
   ]
  },
  {
   "cell_type": "code",
   "execution_count": 58,
   "metadata": {
    "collapsed": true
   },
   "outputs": [],
   "source": [
    "### Your code goes here"
   ]
  },
  {
   "cell_type": "markdown",
   "metadata": {},
   "source": [
    "Suppose we want to add an item to our list. We use the function **append** when adding a single item, and **extend** when adding a list of items. \n",
    "\n",
    "Both these functions return NoneType, so don't make the error of saying \n",
    "    \n",
    "**my_list = my_list.append(item)**\n"
   ]
  },
  {
   "cell_type": "code",
   "execution_count": 59,
   "metadata": {
    "collapsed": true
   },
   "outputs": [],
   "source": [
    "my_list.append(\"item\")"
   ]
  },
  {
   "cell_type": "code",
   "execution_count": 60,
   "metadata": {
    "collapsed": false
   },
   "outputs": [
    {
     "name": "stdout",
     "output_type": "stream",
     "text": [
      "['words', 'verbs', 44, [1, 2, 3], 'item']\n"
     ]
    }
   ],
   "source": [
    "print(my_list)"
   ]
  },
  {
   "cell_type": "markdown",
   "metadata": {},
   "source": [
    "Extending to a list does something similar, except we can extend by multiple items (contained in a list) at once:"
   ]
  },
  {
   "cell_type": "code",
   "execution_count": 61,
   "metadata": {
    "collapsed": true
   },
   "outputs": [],
   "source": [
    "my_list.extend([\"item1\", \"item2\", \"item3\"])"
   ]
  },
  {
   "cell_type": "code",
   "execution_count": 62,
   "metadata": {
    "collapsed": false
   },
   "outputs": [
    {
     "name": "stdout",
     "output_type": "stream",
     "text": [
      "['words', 'verbs', 44, [1, 2, 3], 'item', 'item1', 'item2', 'item3']\n"
     ]
    }
   ],
   "source": [
    "print(my_list)"
   ]
  },
  {
   "cell_type": "markdown",
   "metadata": {},
   "source": [
    "We can remove an item at a given index using the function **pop**. \n",
    "\n",
    "Suppose we want to pop the first item of our list, thus the item sitting at index 0. \n",
    "This returns the item residing at that index, as well as changing the list."
   ]
  },
  {
   "cell_type": "code",
   "execution_count": 63,
   "metadata": {
    "collapsed": false
   },
   "outputs": [
    {
     "data": {
      "text/plain": [
       "'words'"
      ]
     },
     "execution_count": 63,
     "metadata": {},
     "output_type": "execute_result"
    }
   ],
   "source": [
    "my_list.pop(0)"
   ]
  },
  {
   "cell_type": "code",
   "execution_count": 64,
   "metadata": {
    "collapsed": false
   },
   "outputs": [
    {
     "name": "stdout",
     "output_type": "stream",
     "text": [
      "['verbs', 44, [1, 2, 3], 'item', 'item1', 'item2', 'item3']\n"
     ]
    }
   ],
   "source": [
    "print(my_list)"
   ]
  },
  {
   "cell_type": "markdown",
   "metadata": {},
   "source": [
    "Now the item residing at index 0 is 'verbs':"
   ]
  },
  {
   "cell_type": "code",
   "execution_count": 65,
   "metadata": {
    "collapsed": false
   },
   "outputs": [
    {
     "name": "stdout",
     "output_type": "stream",
     "text": [
      "First item in my list: verbs\n"
     ]
    }
   ],
   "source": [
    "print(\"First item in my list:\", my_list[0])"
   ]
  },
  {
   "cell_type": "markdown",
   "metadata": {
    "collapsed": true
   },
   "source": [
    "<div class=\"alert alert-success\" data-title=\"Slicing\">\n",
    "  <h1><i class=\"fa fa-tasks\" aria-hidden=\"true\"></i> Exercise: Multiple Alterings of a List</h1>\n",
    "</div>\n",
    "\n",
    "Follow these instructions to solidify your understanding of how different list functions work. \n",
    "\n",
    "**Print out the list and its length at every step.**\n",
    "\n",
    "Step 1: Create a list containing the following items, in this order: \n",
    "    - 12\n",
    "    - 'snacks'\n",
    "    - True\n",
    "    - 56.66\n",
    "\n",
    "Step 2: **Append** the following item: [1, 2]\n",
    "    \n",
    "Step 3: **Extend** the following list of items: [1, 3]\n",
    "\n",
    "Step 4: **Pop** the item at index 1. \n",
    "\n",
    "\n",
    "\n",
    "**Expected final list after Step 4**: [12, True, 56.66, [1, 2], 1, 3]"
   ]
  },
  {
   "cell_type": "code",
   "execution_count": 66,
   "metadata": {
    "collapsed": false
   },
   "outputs": [
    {
     "name": "stdout",
     "output_type": "stream",
     "text": [
      "Length of list: 0\n",
      "Content of list:  []\n",
      "\n",
      "Length of list: 0\n",
      "Content of list:  []\n",
      "\n",
      "Length of list: 0\n",
      "Content of list:  []\n",
      "\n",
      "Length of list: 0\n",
      "Content of list:  []\n"
     ]
    }
   ],
   "source": [
    "### Your code goes here\n",
    "\n",
    "#Step 1\n",
    "your_list = []\n",
    "print(\"Length of list:\", len(your_list))\n",
    "print(\"Content of list: \", your_list)\n",
    "print()\n",
    "\n",
    "#Step 2\n",
    "\n",
    "print(\"Length of list:\", len(your_list))\n",
    "print(\"Content of list: \", your_list)\n",
    "print()\n",
    "\n",
    "#Step 3\n",
    "\n",
    "print(\"Length of list:\", len(your_list))\n",
    "print(\"Content of list: \", your_list)\n",
    "print()\n",
    "\n",
    "#Step 4\n",
    "\n",
    "print(\"Length of list:\", len(your_list))\n",
    "print(\"Content of list: \", your_list)\n"
   ]
  },
  {
   "cell_type": "markdown",
   "metadata": {},
   "source": [
    "### Dictionaries\n",
    "Dictionaries are super fast and efficient data structures. Like lists, they also have an index system, where every value in the dictionary maps to a key. However, the keys can be non-sequential and varying datatypes. We refer to this storage system as key-value pairs. Observe the following example:"
   ]
  },
  {
   "cell_type": "code",
   "execution_count": 67,
   "metadata": {
    "collapsed": true
   },
   "outputs": [],
   "source": [
    "di = {'key': 'value'}"
   ]
  },
  {
   "cell_type": "markdown",
   "metadata": {},
   "source": [
    "So if we want to know what corresponds to our key, we access it similar to how we access entries in lists or arrays:"
   ]
  },
  {
   "cell_type": "code",
   "execution_count": 68,
   "metadata": {
    "collapsed": false
   },
   "outputs": [
    {
     "name": "stdout",
     "output_type": "stream",
     "text": [
      "value\n"
     ]
    }
   ],
   "source": [
    "print(di['key'])"
   ]
  },
  {
   "cell_type": "markdown",
   "metadata": {},
   "source": [
    "Suppose we try to access a key not contained in our dictionary?\n"
   ]
  },
  {
   "cell_type": "code",
   "execution_count": 69,
   "metadata": {
    "collapsed": false
   },
   "outputs": [
    {
     "ename": "KeyError",
     "evalue": "'m'",
     "output_type": "error",
     "traceback": [
      "\u001b[0;31m---------------------------------------------------------------------------\u001b[0m",
      "\u001b[0;31mKeyError\u001b[0m                                  Traceback (most recent call last)",
      "\u001b[0;32m<ipython-input-69-09f999ff1fd2>\u001b[0m in \u001b[0;36m<module>\u001b[0;34m()\u001b[0m\n\u001b[0;32m----> 1\u001b[0;31m \u001b[0mprint\u001b[0m\u001b[0;34m(\u001b[0m\u001b[0mdi\u001b[0m\u001b[0;34m[\u001b[0m\u001b[0;34m'm'\u001b[0m\u001b[0;34m]\u001b[0m\u001b[0;34m)\u001b[0m\u001b[0;34m\u001b[0m\u001b[0m\n\u001b[0m",
      "\u001b[0;31mKeyError\u001b[0m: 'm'"
     ]
    }
   ],
   "source": [
    "print(di['m'])"
   ]
  },
  {
   "cell_type": "markdown",
   "metadata": {},
   "source": [
    "Of course, we hate errors and we'd like to have an 'early warning system' that tells us if the key is in our dictionary, before we try and access a key. We can do that with the following lines of code:"
   ]
  },
  {
   "cell_type": "code",
   "execution_count": 70,
   "metadata": {
    "collapsed": false
   },
   "outputs": [
    {
     "name": "stdout",
     "output_type": "stream",
     "text": [
      "Key not found\n"
     ]
    }
   ],
   "source": [
    "if di.get('m') != None:\n",
    "    print(di['m'])\n",
    "else:\n",
    "    print('Key not found')"
   ]
  },
  {
   "cell_type": "code",
   "execution_count": 71,
   "metadata": {
    "collapsed": false
   },
   "outputs": [
    {
     "data": {
      "text/plain": [
       "'value'"
      ]
     },
     "execution_count": 71,
     "metadata": {},
     "output_type": "execute_result"
    }
   ],
   "source": [
    "di.get('key')"
   ]
  },
  {
   "cell_type": "markdown",
   "metadata": {},
   "source": [
    "Dictionaries can be used to store mixed and unstructured data. Say we want to create a human, with a name, surname, \n",
    "date of birth, gender, nationality, and preferences. Lets start by making an empty human:"
   ]
  },
  {
   "cell_type": "code",
   "execution_count": 72,
   "metadata": {
    "collapsed": false
   },
   "outputs": [],
   "source": [
    "human = {'name': '', 'surname': '', 'date of birth': '', 'nationality': '', 'preferences': []}"
   ]
  },
  {
   "cell_type": "code",
   "execution_count": 101,
   "metadata": {
    "collapsed": true
   },
   "outputs": [],
   "source": [
    "def articulate_human(human):\n",
    "    human_string = human['name'] + ' ' + human['surname'] + ' was born on ' + human['date of birth'] + ', '\n",
    "    human_string += 'as a citizen of ' + human['nationality'] + '. '\n",
    "    human_string += 'Their preferences include: '\n",
    "    \n",
    "    # here we have some extra code cause our list of preferences won't necessarily be a constant length. \n",
    "    # We use an IF statement to check whether or not we only have one entry. \n",
    "    # if we have more than one entry, we put commas between the entries.\n",
    "    # if we only have one entry, we only print that one\n",
    "    \n",
    "    if len(human['preferences']) > 1:\n",
    "        # here we use the string 'join' function on all but the last one\n",
    "        human_string += ', '.join(human['preferences'][:-1])\n",
    "\n",
    "        # here we put an 'and' before the last preference, to make it sound more human\n",
    "        human_string += ', and ' + human['preferences'][-1] + '.'\n",
    "    else:\n",
    "        human_string += human['preferences'][0] + '.'\n",
    "        \n",
    "    print(human_string)"
   ]
  },
  {
   "cell_type": "markdown",
   "metadata": {},
   "source": [
    "<div class=\"alert alert-success\" data-title=\"Slicing\">\n",
    "  <h1><i class=\"fa fa-tasks\" aria-hidden=\"true\"></i> Exercise: Adding more parameters to the Dictionary</h1>\n",
    "</div>\n",
    "\n",
    "Feel free to play around with the parameters, and try adding more parameters, and include creative text changes in the **articulate_human** function.\n",
    "\n",
    "**Note:** there is no write or wrong answer here!"
   ]
  },
  {
   "cell_type": "code",
   "execution_count": 102,
   "metadata": {
    "collapsed": false
   },
   "outputs": [],
   "source": [
    "human['name']          = 'JE'\n",
    "human['surname']       = 'Daniel'\n",
    "human['date of birth'] = '21st of March, 1995'\n",
    "human['nationality']   = 'South Africa'\n",
    "human['preferences']   = ['food', 'the ocean', 'hiking', 'programming']\n",
    "## add more parameters "
   ]
  },
  {
   "cell_type": "code",
   "execution_count": 103,
   "metadata": {
    "collapsed": false
   },
   "outputs": [
    {
     "name": "stdout",
     "output_type": "stream",
     "text": [
      "JE Daniel was born on 21st of March, 1995, as a citizen of South Africa. Their preferences include: food, the ocean, hiking, and programming.\n"
     ]
    }
   ],
   "source": [
    "articulate_human(human)"
   ]
  },
  {
   "cell_type": "markdown",
   "metadata": {},
   "source": [
    "### Conditional Statements\n",
    "\n",
    "How may we represent the following statement in an algorithm?\n",
    "\n",
    "*At a grocery store, there are 0 breads, 1 carton of eggs, and 5 bottels of milk. *\n",
    "\n",
    "*We want to buy bread, and all the milk we can get. *\n",
    "\n",
    "*If there is no bread, we will buy one carton of eggs.* \n",
    "\n",
    "*We will buy one item at a time. Buying an item means substracting from the grocery store inventory, and adding to our grocery cart. * \n",
    "\n",
    "*We want to know how many items are in our grocery cart after purchasing*\n",
    "\n",
    "(What we just described is high-level pseudocode.)\n",
    "\n",
    "We now define:\n",
    "    - the items in the store as a dictionary, where an integer represents the number of each item available.\n",
    "    - the items in our grocery cart as a list,"
   ]
  },
  {
   "cell_type": "code",
   "execution_count": 82,
   "metadata": {
    "collapsed": true
   },
   "outputs": [],
   "source": [
    "grocery_store = {'bread': 0, 'eggs': 1, 'milk': 5}"
   ]
  },
  {
   "cell_type": "code",
   "execution_count": 83,
   "metadata": {
    "collapsed": true
   },
   "outputs": [],
   "source": [
    "groceries_bought = []\n",
    "\n",
    "counter = len(groceries)"
   ]
  },
  {
   "cell_type": "markdown",
   "metadata": {},
   "source": [
    "Here, adding groceries to our cart means literally appending items to our list, and taking an item from the grocery store dictionary.\n",
    "\n",
    "We write short functions that are item-agnostic, that can both take from the grocery store inventory, and add to our grocery cart. "
   ]
  },
  {
   "cell_type": "code",
   "execution_count": 84,
   "metadata": {
    "collapsed": true
   },
   "outputs": [],
   "source": [
    "def add_to_groceries(item):\n",
    "    groceries_bought.append(item)\n",
    "    \n",
    "def take_from_grocery_store(item):\n",
    "    grocery_store[item] -= 1"
   ]
  },
  {
   "cell_type": "markdown",
   "metadata": {},
   "source": [
    "So how would we execute our buying?"
   ]
  },
  {
   "cell_type": "code",
   "execution_count": 85,
   "metadata": {
    "collapsed": true
   },
   "outputs": [],
   "source": [
    "def purchase_items():\n",
    "    if grocery_store['bread'] > 0:\n",
    "        take_from_grocery_store('bread')\n",
    "        add_to_groceries('bread')\n",
    "        \n",
    "    else:\n",
    "        take_from_grocery_store('eggs')\n",
    "        add_to_groceries('eggs')\n",
    "        \n",
    "    while grocery_store['milk'] > 0:\n",
    "        take_from_grocery_store('milk')\n",
    "        add_to_groceries('milk')\n",
    "        \n",
    "    print(\"Number of items in our grocery cart:\", len(groceries_bought))\n",
    "        "
   ]
  },
  {
   "cell_type": "code",
   "execution_count": 86,
   "metadata": {
    "collapsed": false
   },
   "outputs": [
    {
     "name": "stdout",
     "output_type": "stream",
     "text": [
      "Number of items in our grocery cart: 6\n"
     ]
    }
   ],
   "source": [
    "purchase_items()"
   ]
  },
  {
   "cell_type": "markdown",
   "metadata": {},
   "source": [
    "Suppose we want to know what items are in our grocery cart. \n",
    "\n",
    "We can write a function that prints out each of the items. \n",
    "\n",
    "For this we make use of a **for loop**. \n"
   ]
  },
  {
   "cell_type": "code",
   "execution_count": 87,
   "metadata": {
    "collapsed": true
   },
   "outputs": [],
   "source": [
    "def print_items_in_grocery_cart():\n",
    "    for item in groceries_bought:\n",
    "        print(item)"
   ]
  },
  {
   "cell_type": "code",
   "execution_count": 88,
   "metadata": {
    "collapsed": false
   },
   "outputs": [
    {
     "name": "stdout",
     "output_type": "stream",
     "text": [
      "eggs\n",
      "milk\n",
      "milk\n",
      "milk\n",
      "milk\n",
      "milk\n"
     ]
    }
   ],
   "source": [
    "print_items_in_grocery_cart()"
   ]
  },
  {
   "cell_type": "markdown",
   "metadata": {},
   "source": [
    "So what did we learn here. \n",
    "\n",
    "#### If Statement\n",
    "An *If Statement* evaluates if something is true or not, and if it is True, it will execute the code contained in the *If Statement*. Here we said, IF the grocery store has more than 0 breads, we will buy 1 bread. An *If Statement* is often accompanied by an *Else Statement*, where the code in the *Else Statement* will execute if the *If Statement* did not. We also get something called an *Elif Statement*, short for \"Else If\" which basically starts a new If statement, but only if the first *If Statement* did not execute.\n",
    "\n",
    "#### While Statement\n",
    "\n",
    "A *While Statement* is like an *If Statement*, but it will execute again and again. It evaluates a boolean function, i.e. it checks if a certain condition is met every time before executing again. \n",
    "\n",
    "For example, if you execute the following code, it will run forever -- Don't try it ;)\n",
    "\n",
    "    i = 0\n",
    "    while(i < 1):\n",
    "        print(i)\n",
    "        \n",
    "So how do we make it stop after one iteration? We will have to change i so that the **i<1** condition will evaluate as false after one iteration and the while loop breaks.\n",
    "\n",
    "    i = 0\n",
    "    while(i < 1):\n",
    "        print(i)\n",
    "        i += 1\n",
    "        \n",
    "This snippet of code will only run once. Let's test it:\n",
    "    "
   ]
  },
  {
   "cell_type": "code",
   "execution_count": 89,
   "metadata": {
    "collapsed": false
   },
   "outputs": [
    {
     "name": "stdout",
     "output_type": "stream",
     "text": [
      "0\n"
     ]
    }
   ],
   "source": [
    "i = 0\n",
    "while(i < 1):\n",
    "    print(i)\n",
    "    i += 1"
   ]
  },
  {
   "cell_type": "markdown",
   "metadata": {},
   "source": [
    "<div class=\"alert alert-success\" data-title=\"Slicing\">\n",
    "  <h1><i class=\"fa fa-tasks\" aria-hidden=\"true\"></i> Exercise: Changing the While Loop</h1>\n",
    "</div>\n",
    "\n",
    "Change the condition of the while loop above so that it prints out all the numbers from 0 to 9."
   ]
  },
  {
   "cell_type": "code",
   "execution_count": 90,
   "metadata": {
    "collapsed": true
   },
   "outputs": [],
   "source": [
    "### Your code goes here"
   ]
  },
  {
   "cell_type": "markdown",
   "metadata": {},
   "source": [
    "<div class=\"alert alert-success\" data-title=\"Slicing\">\n",
    "  <h1><i class=\"fa fa-tasks\" aria-hidden=\"true\"></i> Exercise: Adding an If Statement</h1>\n",
    "</div>\n",
    "\n",
    "Following the function you just wrote, now add an If Statement within your while loop that \n",
    "causes the while loop to only *print out EVEN numbers between 0 and 9*. \n",
    "\n",
    "**Hint:** An easy way to test if a number is even if by evaluating i%2 == 0"
   ]
  },
  {
   "cell_type": "code",
   "execution_count": 91,
   "metadata": {
    "collapsed": true
   },
   "outputs": [],
   "source": [
    "### Your code goes here"
   ]
  },
  {
   "cell_type": "markdown",
   "metadata": {},
   "source": [
    "<div class=\"alert alert-success\" data-title=\"Slicing\">\n",
    "  <h1><i class=\"fa fa-tasks\" aria-hidden=\"true\"></i> Exercise: Changing our While into a For</h1>\n",
    "</div>\n",
    "\n",
    "You would maybe have noticed that a For Loop is actually just a While Loop with a counter. For example:\n",
    "\n",
    "    i = 0\n",
    "    while(i < 1):\n",
    "        print(i)\n",
    "        i += 1\n",
    "        \n",
    "is equivalent to:\n",
    "    \n",
    "    for i in range(1):\n",
    "        print(i)\n",
    "        \n",
    "Change the code above to be a While Loop. It should still only print out all the even numbers between 0 and 9.\n"
   ]
  },
  {
   "cell_type": "code",
   "execution_count": 92,
   "metadata": {
    "collapsed": true
   },
   "outputs": [],
   "source": [
    "### Your code goes here"
   ]
  },
  {
   "cell_type": "markdown",
   "metadata": {},
   "source": [
    "## In Conclusion\n",
    "Congratulations on finishing this tutorial! I hope you are a bit more comfortable with Python and programming now :)\n",
    "\n",
    "If you are completely new to programming, and want a bit more in-depth tutorials on each of the topics we covered and more, check out http://www.tutorialspoint.com/python/ or https://www.programiz.com/python-programming/.\n",
    "\n",
    "If you ever get stuck on a problem, or cant get past an error in your code: STACK OVERFLOW IS YOUR FRIEND!\n",
    "\n",
    "If you would like to read up a bit about what people are doing in Tech, Data Science, Machine Learning, etc., all these are great resources to just find out what's going on in the community!\n",
    "\n",
    "https://towardsdatascience.com/data-science/home\n",
    "\n",
    "https://blog.feedspot.com/programming_blogs/ - blog about blogs\n",
    "\n",
    "https://medium.com/topic/technology\n",
    "\n",
    "https://medium.com/topic/artificial-intelligence\n",
    " \n",
    "More topic-specific tutorials can be found at https://www.datacamp.com/community/tutorials (search python)\n",
    "\n",
    "If you feel you have a solid foundation in Python, you are welcome to check out the tutorials on Numpy, Pandas, and Matplotlib. "
   ]
  },
  {
   "cell_type": "code",
   "execution_count": null,
   "metadata": {
    "collapsed": true
   },
   "outputs": [],
   "source": []
  }
 ],
 "metadata": {
  "kernelspec": {
   "display_name": "Python 3",
   "language": "python",
   "name": "python3"
  },
  "language_info": {
   "codemirror_mode": {
    "name": "ipython",
    "version": 3
   },
   "file_extension": ".py",
   "mimetype": "text/x-python",
   "name": "python",
   "nbconvert_exporter": "python",
   "pygments_lexer": "ipython3",
   "version": "3.5.3"
  }
 },
 "nbformat": 4,
 "nbformat_minor": 2
}
