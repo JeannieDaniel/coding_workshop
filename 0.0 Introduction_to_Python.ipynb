{
 "cells": [
  {
   "cell_type": "markdown",
   "metadata": {},
   "source": [
    "# Introduction to Python, the Intuitive Way\n",
    "#### 29 September, 2018\n",
    "#### Author: Jeanne Elizabeth Daniel\n",
    "\n",
    "Please run me in a Colab environment!"
   ]
  },
  {
   "cell_type": "code",
   "execution_count": 1,
   "metadata": {
    "collapsed": false
   },
   "outputs": [
    {
     "name": "stdout",
     "output_type": "stream",
     "text": [
      "Hello World!\n"
     ]
    }
   ],
   "source": [
    "print(\"Hello World!\")"
   ]
  },
  {
   "cell_type": "markdown",
   "metadata": {},
   "source": [
    "### What is Python?\n",
    "Python is an open-source, modern, robust, high level programming language. Python has a design philosophy that emphasizes code readability, notably using significant whitespace. It provides constructs that enable clear programming on both small and large scales.\n",
    "\n",
    "#### What is open-source? \n",
    "Open-Source code is original source code made freely available and which may be redistributed and modified.\n",
    "\n",
    "#### Why Modern?\n",
    "Released in 1991, making it one of the younger languages, (and a millenial)\n",
    "\n",
    "#### Why so robust? \n",
    "In Computer Science, robustness is the ability of a computer system to cope with errors during execution and cope with erroneous input. Python features a dynamic type system (interpreting code line by line) and automatic memory management, making it ideal for quick prototyping as well as constructing large, complicated systems. \n",
    "\n",
    "#### What does high-level language even mean? \n",
    "A high-level language (HLL) is a programming language that enables a programmer to write programs that are more or less independent of a particular type of computer. Such languages are considered high-level because they are closer to human languages and further from machine languages.\n",
    "\n",
    "More general programinning lingo can be found at https://hackernoon.com/i-finally-understand-static-vs-dynamic-typing-and-you-will-too-ad0c2bd0acc7\n",
    "\n",
    "It is very easy to pick up Python even if you are completely new to programming. (I'll prove it to you!)"
   ]
  },
  {
   "cell_type": "code",
   "execution_count": 2,
   "metadata": {
    "collapsed": true
   },
   "outputs": [],
   "source": [
    "import numpy as np\n",
    "import pandas as pd\n",
    "import matplotlib.pyplot as plt\n",
    "%matplotlib inline"
   ]
  },
  {
   "cell_type": "markdown",
   "metadata": {},
   "source": [
    "### Essential Libraries \n",
    "*See Notebooks 0.1, 0.2, 0.3 for optional tutorials on these three libraries, which you can work through whenever you have time.*\n",
    "\n",
    "Numpy, Pandas and Matplotlib.pyplot are arguably the most useful tools available to any scientist, and just with these three libraries you can do incredible things. We import the libraries we'll be making use of at the top of our script, always. We don't import unnecessary libraries as they all take up memory. \n",
    "\n",
    "#### Numpy\n",
    "NumPy is the fundamental package for scientific computing with Python. More information found at http://www.numpy.org\n",
    "Numpy provides\n",
    "  1. An array object of arbitrary homogeneous items\n",
    "  2. Fast mathematical operations over arrays\n",
    "  3. Linear Algebra, Fourier Transforms, Random Number Generation (And Statistical Tools)\n",
    "  \n",
    "#### Pandas\n",
    "Pandas is the most powerful and flexible open source data analysis / manipulation tool available in any language. It aims to be the fundamental high-level building block for doing practical, real world data analysis in Python. More found at https://pandas.pydata.org\n",
    "\n",
    "Here are just a few of the things that pandas does well:\n",
    "\n",
    "  - Easy handling of missing data in floating point as well as non-floating point data\n",
    "  - Size mutability: columns can be inserted and deleted from DataFrame and higher dimensional objects\n",
    "  - Automatic and explicit data alignment: objects can  be explicitly aligned to a set of labels, or the user can simply ignore the labels and let `Series`, `DataFrame`, etc. automatically align the data for you in\n",
    "    computations\n",
    "  - Powerful, flexible group by functionality to perform split-apply-combine operations on data sets, for both aggregating and transforming data\n",
    "  - Make it easy to convert ragged, differently-indexed data in other Python and NumPy data structures into DataFrame objects\n",
    "  - Intelligent label-based slicing, fancy indexing, and subsetting of large data sets\n",
    "  - Intuitive merging and joining data sets\n",
    "  - Flexible reshaping and pivoting of data sets\n",
    "  - Hierarchical labeling of axes (possible to have multiple labels per tick)\n",
    "  - Robust IO tools for loading data from flat files (CSV and delimited), Excel files, databases, and saving/loading data from the ultrafast HDF5 format\n",
    "  - Time series-specific functionality: date range generation and frequency conversion, moving window statistics, moving window linear regressions, date shifting and lagging, etc.\n",
    "\n",
    "#### Matplotlib.pyplot\n",
    "Matplotlib is a Python 2D plotting library which produces publication quality figures in a variety of hardcopy formats and interactive environments across platforms. Matplotlib tries to make easy things easy and hard things possible. You can generate plots, histograms, power spectra, bar charts, errorcharts, scatterplots, etc., with just a few lines of code. More information and tutorials can be found at https://matplotlib.org"
   ]
  },
  {
   "cell_type": "code",
   "execution_count": 8,
   "metadata": {
    "collapsed": false
   },
   "outputs": [
    {
     "name": "stdout",
     "output_type": "stream",
     "text": [
      "Let's get down to business\n",
      "Notebook agrees\n"
     ]
    }
   ],
   "source": [
    "print(\"Let's get down to business\")\n",
    "if True:\n",
    "    print(\"Notebook agrees\")\n",
    "else:\n",
    "    print(\"Please free me\")"
   ]
  },
  {
   "cell_type": "markdown",
   "metadata": {},
   "source": [
    "## Back to Basics\n",
    "We will be covering the following topics -- datatypes, arrays, string functions, essential datastructures in python, boolean statements, and coding conventions.\n",
    "\n",
    "There are many more components to programming, but for getting started, you'll only need to have a basic understanding of these. \n",
    "\n",
    "### Datatypes\n",
    "There are a few primitive datatypes essential for programming: \n",
    "    - booleans (True, False)\n",
    "    - integers (-1, 5, 30, -455, etc)\n",
    "    - floats   (0.555555, 3.14, 6.89, etc)\n",
    "    - chars    ('a', '5', '#', '!', etc)\n",
    "    \n",
    "These primitive types are so simple but so powerful. The whole world wide web, every database, every programming function makes use of and relies on these primitive datatypes. "
   ]
  },
  {
   "cell_type": "markdown",
   "metadata": {},
   "source": [
    "#### What are Booleans?\n",
    "A boolean is a datatype that can only be one of two values, True or False. This can be used to make decisions in functions, and especially form the basis for If, While, and For functions. \n",
    "\n",
    "With booleans come Boolean Algebra (don't panic, this is the quickest Algebra you will ever master). \n",
    "There are two boolean algebra operations:\n",
    "    - AND\n",
    "    - OR\n",
    "In more complicated languages, AND is written as &&, and OR is written as ||."
   ]
  },
  {
   "cell_type": "code",
   "execution_count": 25,
   "metadata": {
    "collapsed": false
   },
   "outputs": [
    {
     "name": "stdout",
     "output_type": "stream",
     "text": [
      "And => both must\n",
      "True and True    = True\n",
      "True and False   = False\n",
      "False and True   = False\n",
      "False and False  = False\n"
     ]
    }
   ],
   "source": [
    "print(\"And => both must\") \n",
    "print(\"True and True    =\", True and True)\n",
    "print(\"True and False   =\", True and False)\n",
    "print(\"False and True   =\", False and True)\n",
    "print(\"False and False  =\", False and False)"
   ]
  },
  {
   "cell_type": "code",
   "execution_count": 27,
   "metadata": {
    "collapsed": false
   },
   "outputs": [
    {
     "name": "stdout",
     "output_type": "stream",
     "text": [
      "Or => either can\n",
      "True or True     = True\n",
      "True or False    = True\n",
      "False or True    = True\n",
      "False or False   = False\n"
     ]
    }
   ],
   "source": [
    "print(\"Or => either can\") \n",
    "print(\"True or True     =\", True or True)\n",
    "print(\"True or False    =\", True or False)\n",
    "print(\"False or True    =\", False or True)\n",
    "print(\"False or False   =\", False or False)"
   ]
  },
  {
   "cell_type": "markdown",
   "metadata": {},
   "source": [
    "Congratulations! You just mastered boolean algebra operations!"
   ]
  },
  {
   "cell_type": "markdown",
   "metadata": {},
   "source": [
    "#### What are integers?\n",
    "Integers are just plain round numbers, and can be considered countable infinite (why?) We use integers to index in lists and arrays. Computers do powerful and quick math. And they love numbers. Try doing 133*57 in your head?"
   ]
  },
  {
   "cell_type": "code",
   "execution_count": 20,
   "metadata": {
    "collapsed": false
   },
   "outputs": [
    {
     "data": {
      "text/plain": [
       "7581"
      ]
     },
     "execution_count": 20,
     "metadata": {},
     "output_type": "execute_result"
    }
   ],
   "source": [
    "133*57"
   ]
  },
  {
   "cell_type": "markdown",
   "metadata": {},
   "source": [
    "Don't worry, computers still can't think for themselves though. \n",
    "\n",
    "So what are the operations we can do with integers? Well, all the usual mathy stuff:\n",
    "    - add\n",
    "    - subtract\n",
    "    - multiply\n",
    "    - divide\n",
    "    - modular\n",
    "    - yeah, that's about it.\n",
    "    \n",
    "To this day, it still blows my mind that the whole world's computer systems runs using these simple operations. They are like the mitochondrial DNA of all things computers.\n",
    "\n",
    "NOTE: dividing integers by one another will produce floats"
   ]
  },
  {
   "cell_type": "code",
   "execution_count": 24,
   "metadata": {
    "collapsed": false
   },
   "outputs": [
    {
     "name": "stdout",
     "output_type": "stream",
     "text": [
      "3+1= 4\n",
      "3-1= 2\n",
      "3*1= 3\n",
      "3/1= 3.0 (see here the resulting float)\n",
      "3%1= 0\n"
     ]
    }
   ],
   "source": [
    "print(\"3+1=\", 3+1)\n",
    "print(\"3-1=\", 3-1)\n",
    "print(\"3*1=\", 3*1)\n",
    "print(\"3/1=\", 3/1, \"(see here the resulting float)\")\n",
    "print(\"3%1=\", 3%1)"
   ]
  },
  {
   "cell_type": "markdown",
   "metadata": {},
   "source": [
    "#### What are Floats?\n",
    "Floats include everything that happens between integers. For example, between the integers 0 and 1 there is nothing. Nada. \n",
    "\n",
    "Between the floats 0.0 and 1.0 there is a continous and infinite amount of floating point numbers.\n",
    "\n",
    "0.1, 0.2, 0.3, 0.4... But also \n",
    "\n",
    "0.11, 0.12, 0.13, 0.14... And even further:\n",
    "\n",
    "0.111, 0.112, 0.113, 0.114...\n",
    "\n",
    "\n",
    "Because of this property, floats are uncountable infinite. "
   ]
  },
  {
   "cell_type": "code",
   "execution_count": 34,
   "metadata": {
    "collapsed": false
   },
   "outputs": [
    {
     "name": "stdout",
     "output_type": "stream",
     "text": [
      "1/3           = 0.3333333333333333\n",
      "pi            = 3.141592653589793\n",
      "random number = 0.6569397419844438\n"
     ]
    }
   ],
   "source": [
    "print(\"1/3           =\", 1/3)\n",
    "print(\"pi            =\", np.pi)\n",
    "print(\"random number =\", np.random.random())"
   ]
  },
  {
   "cell_type": "markdown",
   "metadata": {},
   "source": [
    "Note: just because the computer prints out that amount of numbers, does not mean the digits following the . necessarily end there. For example the digits of PI are infinite. "
   ]
  },
  {
   "cell_type": "markdown",
   "metadata": {},
   "source": [
    "#### What are chars?\n",
    "Chars are short for characters, which is a data type that holds one character (letter, number, etc.) of data.. Chars are captured between quotation marks. Some operands, like + and *, can be used on chars.\n",
    "\n",
    "For example, 'a', '4', '#', etc, are all chars. \n",
    "\n",
    "Fun fact: strings are char arrays."
   ]
  },
  {
   "cell_type": "code",
   "execution_count": 41,
   "metadata": {
    "collapsed": false
   },
   "outputs": [
    {
     "data": {
      "text/plain": [
       "'ab'"
      ]
     },
     "execution_count": 41,
     "metadata": {},
     "output_type": "execute_result"
    }
   ],
   "source": [
    "'a' + 'b'"
   ]
  },
  {
   "cell_type": "code",
   "execution_count": 42,
   "metadata": {
    "collapsed": false
   },
   "outputs": [
    {
     "ename": "TypeError",
     "evalue": "unsupported operand type(s) for -: 'str' and 'str'",
     "output_type": "error",
     "traceback": [
      "\u001b[0;31m---------------------------------------------------------------------------\u001b[0m",
      "\u001b[0;31mTypeError\u001b[0m                                 Traceback (most recent call last)",
      "\u001b[0;32m<ipython-input-42-ee1600b48b96>\u001b[0m in \u001b[0;36m<module>\u001b[0;34m()\u001b[0m\n\u001b[0;32m----> 1\u001b[0;31m \u001b[0;34m'a'\u001b[0m \u001b[0;34m-\u001b[0m \u001b[0;34m'b'\u001b[0m\u001b[0;34m\u001b[0m\u001b[0m\n\u001b[0m",
      "\u001b[0;31mTypeError\u001b[0m: unsupported operand type(s) for -: 'str' and 'str'"
     ]
    }
   ],
   "source": [
    "'a' - 'b'"
   ]
  },
  {
   "cell_type": "code",
   "execution_count": 43,
   "metadata": {
    "collapsed": false
   },
   "outputs": [
    {
     "data": {
      "text/plain": [
       "'aaaaa'"
      ]
     },
     "execution_count": 43,
     "metadata": {},
     "output_type": "execute_result"
    }
   ],
   "source": [
    "'a'*5"
   ]
  },
  {
   "cell_type": "markdown",
   "metadata": {},
   "source": [
    "### Arrays\n",
    "An one-dimensional array is an Nx1 dimensional grid-like data store. Don't overthink it. Think about it like this: \n",
    "1. We have a bookshelf. \n",
    "2. All the books are indexed, starting from 0, and ending at N, where N is an arbitrary large integer. \n",
    "3. Each book on the shelf is a single, discrete entity, representing a value. It can be any value, 20000, or 2, or 200. \n",
    "4. If we want to access the value at index i, we need only look through all the indexes (on the books) until we find i, and then we will know the value that exists at bookshelf[i].\n",
    "\n",
    "This is the essence of arrays. It is a very simple, but powerful data structure, that has an index i = 0...N and values stored at each index i of that array. \n",
    "\n",
    "So how do we code arrays? With Numpy of course!"
   ]
  },
  {
   "cell_type": "markdown",
   "metadata": {},
   "source": [
    "#### One-dimensional arrays"
   ]
  },
  {
   "cell_type": "code",
   "execution_count": 46,
   "metadata": {
    "collapsed": false
   },
   "outputs": [
    {
     "data": {
      "text/plain": [
       "array([1, 2, 3, 4])"
      ]
     },
     "execution_count": 46,
     "metadata": {},
     "output_type": "execute_result"
    }
   ],
   "source": [
    "np.array([1, 2, 3, 4])"
   ]
  },
  {
   "cell_type": "markdown",
   "metadata": {},
   "source": [
    "#### Two-dimensional arrays (matrices)"
   ]
  },
  {
   "cell_type": "code",
   "execution_count": 47,
   "metadata": {
    "collapsed": false
   },
   "outputs": [
    {
     "data": {
      "text/plain": [
       "array([[1, 2],\n",
       "       [3, 4]])"
      ]
     },
     "execution_count": 47,
     "metadata": {},
     "output_type": "execute_result"
    }
   ],
   "source": [
    "np.array([[1, 2], [3, 4]])"
   ]
  },
  {
   "cell_type": "markdown",
   "metadata": {},
   "source": [
    "A lot more content on Numpy and arrays can be found in Notebook 01"
   ]
  },
  {
   "cell_type": "markdown",
   "metadata": {},
   "source": [
    "### String Functions\n",
    "Before we can define string functions, we should probably define strings. So, what are strings?\n",
    "\n",
    "##### Strings are sequences/arrays of chars.\n",
    "\n",
    "Pay close attention here, because we will be using this information to build our chatbot later!"
   ]
  },
  {
   "cell_type": "markdown",
   "metadata": {},
   "source": [
    "#### Char"
   ]
  },
  {
   "cell_type": "code",
   "execution_count": 50,
   "metadata": {
    "collapsed": false
   },
   "outputs": [
    {
     "data": {
      "text/plain": [
       "'a'"
      ]
     },
     "execution_count": 50,
     "metadata": {},
     "output_type": "execute_result"
    }
   ],
   "source": [
    "'a'"
   ]
  },
  {
   "cell_type": "markdown",
   "metadata": {},
   "source": [
    "#### String: a sequence of chars"
   ]
  },
  {
   "cell_type": "code",
   "execution_count": 51,
   "metadata": {
    "collapsed": false
   },
   "outputs": [
    {
     "data": {
      "text/plain": [
       "'abc'"
      ]
     },
     "execution_count": 51,
     "metadata": {},
     "output_type": "execute_result"
    }
   ],
   "source": [
    "'a' + 'b' + 'c' + 'd'"
   ]
  },
  {
   "cell_type": "markdown",
   "metadata": {},
   "source": [
    "Strings enable us to build powerful tools, because they can store so much information! \n",
    "\n",
    "Let's take a look at some of the most commonly used built-in string functions:\n",
    "\n",
    "    - str.find()\n",
    "    - str.count()\n",
    "    - str.lstrip()\n",
    "    - str.rstrip()\n",
    "    - str.join()\n",
    "    - str.split()\n",
    "    - str.replace()\n",
    "    - str.upper()\n",
    "    - str.lower()\n",
    "    - str.capitalize()\n",
    "    \n",
    "Boolean functions are functions that return True or False, and they usually start with \"is\":\n",
    "    - str.isalnum()\n",
    "    - str.isalpha()\n",
    "    - str.islower()\n",
    "    - str.isnumeric()\n",
    "    - str.isdigit()\n",
    "    - str.isspace()\n",
    "    - str.istitle()\n",
    "    - str.isupper()\n",
    "\n",
    "    \n",
    "There are some other tricks we can do, like determining the length of a string, using len(). We replace the *str* with our chosen string, for example: "
   ]
  },
  {
   "cell_type": "code",
   "execution_count": 3,
   "metadata": {
    "collapsed": false
   },
   "outputs": [
    {
     "name": "stdout",
     "output_type": "stream",
     "text": [
      "'hello' is all lower case:  True\n"
     ]
    }
   ],
   "source": [
    "print(\"'hello' is all lower case: \", \"hello\".islower())"
   ]
  },
  {
   "cell_type": "code",
   "execution_count": 5,
   "metadata": {
    "collapsed": false
   },
   "outputs": [
    {
     "name": "stdout",
     "output_type": "stream",
     "text": [
      "'12345' are all numeric:  True\n"
     ]
    }
   ],
   "source": [
    "print(\"'12345' are all numeric: \", \"12345\".isnumeric())"
   ]
  },
  {
   "cell_type": "markdown",
   "metadata": {},
   "source": [
    "The difference between str.isalpha() and str.isalnum() is that the first only looks for alphabet letters, where the second one will return true if there are either alphabet or numerical values."
   ]
  },
  {
   "cell_type": "code",
   "execution_count": 6,
   "metadata": {
    "collapsed": false
   },
   "outputs": [
    {
     "data": {
      "text/plain": [
       "False"
      ]
     },
     "execution_count": 6,
     "metadata": {},
     "output_type": "execute_result"
    }
   ],
   "source": [
    "\"12alphabet\".isalpha()"
   ]
  },
  {
   "cell_type": "code",
   "execution_count": 8,
   "metadata": {
    "collapsed": false
   },
   "outputs": [
    {
     "data": {
      "text/plain": [
       "False"
      ]
     },
     "execution_count": 8,
     "metadata": {},
     "output_type": "execute_result"
    }
   ],
   "source": [
    "\"12alphabet\".isnumeric()"
   ]
  },
  {
   "cell_type": "code",
   "execution_count": 7,
   "metadata": {
    "collapsed": false
   },
   "outputs": [
    {
     "data": {
      "text/plain": [
       "True"
      ]
     },
     "execution_count": 7,
     "metadata": {},
     "output_type": "execute_result"
    }
   ],
   "source": [
    "\"12alphabet\".isalnum()"
   ]
  },
  {
   "cell_type": "markdown",
   "metadata": {
    "collapsed": true
   },
   "source": [
    "Let's take a look at some of the built-in functions. Now, might we learn if a string contains a certain character?"
   ]
  },
  {
   "cell_type": "code",
   "execution_count": 10,
   "metadata": {
    "collapsed": true
   },
   "outputs": [],
   "source": [
    "big_string = \"the quick brown fox jumped over the hedge\"\n",
    "sub_string = \"fox\""
   ]
  },
  {
   "cell_type": "markdown",
   "metadata": {},
   "source": [
    "Say we want to know if the big string *\"the quick brown fox jumped over the hedge\"* contained the substring, *\"fox\"*. Because strings are just sequences of chars, each char also has an index, starting at 0. \n",
    "\n",
    "The function, str.find() will return the starting index of the substring, if it is found in the big string, otherwise it will return -1. Observe:"
   ]
  },
  {
   "cell_type": "code",
   "execution_count": 11,
   "metadata": {
    "collapsed": false
   },
   "outputs": [
    {
     "data": {
      "text/plain": [
       "16"
      ]
     },
     "execution_count": 11,
     "metadata": {},
     "output_type": "execute_result"
    }
   ],
   "source": [
    "big_string.find(sub_string)"
   ]
  },
  {
   "cell_type": "markdown",
   "metadata": {},
   "source": [
    "Looks like the substring \"fox\" is at the 16th character in our big string!"
   ]
  },
  {
   "cell_type": "code",
   "execution_count": 12,
   "metadata": {
    "collapsed": false
   },
   "outputs": [
    {
     "data": {
      "text/plain": [
       "-1"
      ]
     },
     "execution_count": 12,
     "metadata": {},
     "output_type": "execute_result"
    }
   ],
   "source": [
    "big_string.find(\"random\")"
   ]
  },
  {
   "cell_type": "markdown",
   "metadata": {},
   "source": [
    "Obviously the substring \"random\" does not occur in our big string."
   ]
  },
  {
   "cell_type": "markdown",
   "metadata": {},
   "source": [
    "#### Quick Look at Functions\n",
    "If we are only interested in knowing whether or not the substring is contained in the big string or not, we can write a boolean function for that:"
   ]
  },
  {
   "cell_type": "code",
   "execution_count": 20,
   "metadata": {
    "collapsed": true
   },
   "outputs": [],
   "source": [
    "def contains(big_string, sub_string):\n",
    "    if big_string.find(sub_string) > -1:\n",
    "        return True\n",
    "    else:\n",
    "        return False"
   ]
  },
  {
   "cell_type": "markdown",
   "metadata": {},
   "source": [
    "Okay whoah. So what happened here? We just wrote our first functions! \n",
    "\n",
    "Functions in Python have the following skeleton where we:\n",
    "    - indicate the start of a function with the word **def**\n",
    "    - the name of the function(what you will use to call it), in our case **contains**\n",
    "    - followed by all the parameters you need to pass to it, enclosed in brackets, in our case the **(big_string, substring)**\n",
    "    - this first line is finished off with a compulsory **:**, where your code begins\n",
    "    - functions can return any datatype you like -- indicated by the word **return**. \n",
    "    - if you don't specify a return value, it will return a **NoneType**"
   ]
  },
  {
   "cell_type": "code",
   "execution_count": 24,
   "metadata": {
    "collapsed": true
   },
   "outputs": [],
   "source": [
    "def none_type_demo():\n",
    "    print(\"\")"
   ]
  },
  {
   "cell_type": "code",
   "execution_count": 25,
   "metadata": {
    "collapsed": false
   },
   "outputs": [
    {
     "name": "stdout",
     "output_type": "stream",
     "text": [
      "\n",
      "None\n"
     ]
    }
   ],
   "source": [
    "print(none_type_demo())"
   ]
  },
  {
   "cell_type": "markdown",
   "metadata": {},
   "source": [
    "#### Back to strings!\n",
    "See? All good!\n",
    "Now we will test our contains function on some other big strings and substring, feel free to play around with them! Note how the current **contains** function is case-senstive. \n"
   ]
  },
  {
   "cell_type": "code",
   "execution_count": 21,
   "metadata": {
    "collapsed": false
   },
   "outputs": [
    {
     "data": {
      "text/plain": [
       "True"
      ]
     },
     "execution_count": 21,
     "metadata": {},
     "output_type": "execute_result"
    }
   ],
   "source": [
    "contains(big_string, sub_string)"
   ]
  },
  {
   "cell_type": "code",
   "execution_count": 22,
   "metadata": {
    "collapsed": false
   },
   "outputs": [
    {
     "data": {
      "text/plain": [
       "False"
      ]
     },
     "execution_count": 22,
     "metadata": {},
     "output_type": "execute_result"
    }
   ],
   "source": [
    "contains(big_string, sub_string.upper())"
   ]
  },
  {
   "cell_type": "markdown",
   "metadata": {},
   "source": [
    "<div class=\"alert alert-success\" data-title=\"Case Insensitive Contains Function\">\n",
    "  <h1><i class=\"fa fa-tasks\" aria-hidden=\"true\"></i> Exercise: Case Insensitive Contains Function</h1>\n",
    "</div>\n",
    "\n",
    "Machines don't really care (or know) about upper or lowercase. For them \"a\" and \"A\" are as far apart as \"a\" and \"#\". How do we make the machine care?\n",
    "\n",
    "Try to change the **contains** function to be CASE-INSENSITIVE, i.e. it should match regardless of the word being uppercase or lowercase. \n",
    "\n",
    "**Hint**: take a look at the boolean functions for strings, as well as the line just above."
   ]
  },
  {
   "cell_type": "code",
   "execution_count": null,
   "metadata": {
    "collapsed": true
   },
   "outputs": [],
   "source": [
    "def case_insensitve_contains(big_string, sub_string):\n",
    "    # your code goes here"
   ]
  },
  {
   "cell_type": "markdown",
   "metadata": {},
   "source": [
    "#### Join, Split, Replace String Functions"
   ]
  },
  {
   "cell_type": "code",
   "execution_count": null,
   "metadata": {
    "collapsed": true
   },
   "outputs": [],
   "source": []
  }
 ],
 "metadata": {
  "kernelspec": {
   "display_name": "Python 3",
   "language": "python",
   "name": "python3"
  },
  "language_info": {
   "codemirror_mode": {
    "name": "ipython",
    "version": 3
   },
   "file_extension": ".py",
   "mimetype": "text/x-python",
   "name": "python",
   "nbconvert_exporter": "python",
   "pygments_lexer": "ipython3",
   "version": "3.5.3"
  }
 },
 "nbformat": 4,
 "nbformat_minor": 2
}
